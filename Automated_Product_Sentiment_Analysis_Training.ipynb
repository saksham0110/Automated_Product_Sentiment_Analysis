{
 "cells": [
  {
   "cell_type": "markdown",
   "metadata": {},
   "source": [
    "## Importing Required Libraries:"
   ]
  },
  {
   "cell_type": "code",
   "execution_count": 118,
   "metadata": {},
   "outputs": [],
   "source": [
    "import tensorflow.python.keras.backend as K\n",
    "sess = K.get_session()\n",
    "import pandas as pd\n",
    "import numpy as np\n",
    "import time\n",
    "from selenium import webdriver\n",
    "from selenium.webdriver.support import expected_conditions as EC\n",
    "from selenium.webdriver.support.ui import WebDriverWait"
   ]
  },
  {
   "cell_type": "code",
   "execution_count": 70,
   "metadata": {},
   "outputs": [
    {
     "name": "stderr",
     "output_type": "stream",
     "text": [
      "[nltk_data] Error loading wordnet: <urlopen error [Errno 11001]\n",
      "[nltk_data]     getaddrinfo failed>\n",
      "[nltk_data] Error loading stopwords: <urlopen error [Errno 11001]\n",
      "[nltk_data]     getaddrinfo failed>\n"
     ]
    },
    {
     "data": {
      "text/plain": [
       "False"
      ]
     },
     "execution_count": 70,
     "metadata": {},
     "output_type": "execute_result"
    }
   ],
   "source": [
    "import nltk\n",
    "import re\n",
    "from nltk.corpus import stopwords\n",
    "from nltk.stem import WordNetLemmatizer\n",
    "nltk.download('wordnet')\n",
    "from sklearn.feature_extraction.text import CountVectorizer\n",
    "from sklearn.feature_extraction.text import TfidfVectorizer\n",
    "nltk.download('stopwords')"
   ]
  },
  {
   "cell_type": "markdown",
   "metadata": {},
   "source": [
    "## Conversation Starter:"
   ]
  },
  {
   "cell_type": "code",
   "execution_count": 147,
   "metadata": {},
   "outputs": [],
   "source": [
    "def greetings():\n",
    "    print('Hey!')\n",
    "    print('*********************************************************')\n",
    "    print(\"I'm Probot. How may I help you?\")\n",
    "    print('*********************************************************')\n",
    "    product_name = str(input(\"Enter the product you want to review:\"))\n",
    "    return product_name"
   ]
  },
  {
   "cell_type": "markdown",
   "metadata": {},
   "source": [
    "## Getting Amazon Website:"
   ]
  },
  {
   "cell_type": "code",
   "execution_count": 148,
   "metadata": {},
   "outputs": [],
   "source": [
    "driver = webdriver.Chrome(executable_path='C:\\Windows\\chromedriver')\n",
    "driver.get('https://www.amazon.in/')"
   ]
  },
  {
   "cell_type": "code",
   "execution_count": 149,
   "metadata": {},
   "outputs": [
    {
     "name": "stdout",
     "output_type": "stream",
     "text": [
      "Hey!\n",
      "*********************************************************\n",
      "I'm Probot. How may I help you?\n",
      "*********************************************************\n",
      "Enter the product you want to review:one plus 8\n"
     ]
    }
   ],
   "source": [
    "input_field = driver.find_element_by_id('twotabsearchtextbox')\n",
    "prod_name = greetings()\n",
    "input_field.send_keys(prod_name)\n",
    "driver.find_element_by_id('nav-search-submit-button').click()"
   ]
  },
  {
   "cell_type": "markdown",
   "metadata": {},
   "source": [
    "## Searching for the Input Product:"
   ]
  },
  {
   "cell_type": "code",
   "execution_count": 150,
   "metadata": {},
   "outputs": [],
   "source": [
    "product = driver.find_element_by_class_name('s-card-container')\n",
    "product_link = product.find_element_by_tag_name('a')\n",
    "product_link.click()"
   ]
  },
  {
   "cell_type": "code",
   "execution_count": 151,
   "metadata": {},
   "outputs": [],
   "source": [
    "driver.switch_to.window(driver.window_handles[1])"
   ]
  },
  {
   "cell_type": "code",
   "execution_count": 152,
   "metadata": {},
   "outputs": [],
   "source": [
    "driver.find_element_by_link_text('See all reviews').click()"
   ]
  },
  {
   "cell_type": "markdown",
   "metadata": {},
   "source": [
    "## Getting all the Customer Reviews for the Product:"
   ]
  },
  {
   "cell_type": "code",
   "execution_count": 153,
   "metadata": {},
   "outputs": [],
   "source": [
    "reviews = []"
   ]
  },
  {
   "cell_type": "code",
   "execution_count": 154,
   "metadata": {},
   "outputs": [],
   "source": [
    "def get_reviews(): \n",
    "    all_reviews = driver.find_elements_by_class_name('review-text')\n",
    "    for review in all_reviews:\n",
    "        reviews.append(review.text)"
   ]
  },
  {
   "cell_type": "code",
   "execution_count": 155,
   "metadata": {},
   "outputs": [],
   "source": [
    "get_reviews()\n",
    "next_page = True\n",
    "while(next_page):\n",
    "    if len(reviews)>=50:\n",
    "        break\n",
    "    try:\n",
    "        driver.find_element_by_id('cm_cr-pagination_bar').find_element_by_class_name('a-last').find_element_by_tag_name('a').click()\n",
    "        time.sleep(6)\n",
    "        get_reviews()\n",
    "    except:\n",
    "        next_page = False"
   ]
  },
  {
   "cell_type": "code",
   "execution_count": 156,
   "metadata": {},
   "outputs": [],
   "source": [
    "reviews = list(set(reviews))"
   ]
  },
  {
   "cell_type": "code",
   "execution_count": 157,
   "metadata": {},
   "outputs": [
    {
     "data": {
      "text/plain": [
       "['',\n",
       " 'Dislike- camera',\n",
       " \"First let me give a review of the mobile. I bought 8 and 128gb version. Overall is good. But it says it's fast charging but to charge it from 20% to 100% it's taking more than 2 hours. And with moderate use the battery will last for 30 odd hours, including the night time when we are not using it atall. Got the product on 30th October. After using for 2days suddenly the display was not working properly and after 10-15minutes it went totally blank. Now nothing is visible. Display totally gone.\\nTried to raise a replacement but as per Amazon a technical person will visit and check, and after his report they will proceed further. Ok, no issues with this, but the slot they gave is after 5days. They are delevering your product in 1day after you have ordered, but if there is any issue , them they are taking more than a week to replace it. That's not acceptable. Let's see what happens after the technician visit. Will provide the next update\\n\\nGot the new phone after 10days. It was a very very bad experience while returning the product. Technician was scheduled after 3 days i raised request but no one showed up, got no calls from them. No one picked my call. I was told to reschedule it. I did for a time slot of 10 AM to 2PM (again after 48hours). Again no one came. I called to amazon customer and they told me to again reschedule. I dropped 3 mails escalating it. Then the techinicain called me and came after 6PM.\\nI finally got the phone replaced on 10th November.\\n\\nThe camera is not as good as it shoud be. Battery is bad. It takes more than 2.5 hours to full charge and stays for just over a day. (I dont play games on phone)\",\n",
       " '3 hours to charge and heating issue with phone and very hard attitude of Amazon to refund. Phone sicks',\n",
       " 'I have multiple feedback or this model. Overall I can give is 3 star only.\\nBattery life is Good\\nDesign and look is good\\n\\nBut there are many cons:\\nDisplay looks very much shrinked\\nCamera specially in night mode is very very bad\\nFinger print reader most of the times does not take it. Tried many many times adding fingers and changing it, but reader quality is very bad\\nCharging cable received in the box is very small. Power adapter is of poor quality.\\nLoud speaker is not at all loud\\n\\nOverall not very happy being a Samsung customer and Samsung product.',\n",
       " 'I sold the phone sameday somehow on olx in 4k loss. Amazon doesn’t provide return.\\n\\nPhone is a joke.\\nPlain M32 had full hd screen and now with 5G price has gone up by 6k and display is surprisingly half hd(HD+) . This is plain loot.\\n\\nPlastic is cheap.\\nCamera is worst than any 10k phn\\nSlow processor\\nEven screen lags in scrolling, such bad refresh rate\\nPathetic Processor and ram\\n\\nOverall its from 2012 times where HD+ was a thing. This phone is 9 yrs late.\\n\\nNever buy samsung in this segment.',\n",
       " 'Phone features are ok but Samsung should consider amoled display in this price segment. Although screen is very clear comparative to other brands but it should be sAmoled.',\n",
       " 'I personally felt display and front cam ok ok but atleast rear cam for 23k 48mp its not good quality also. I am preferred to buy Samsung but not this model',\n",
       " 'I have brought this phone during the first day of launch. I was expecting something better could be involved in this mobile but literally waste. Phone is getting heating issues while we speak any calls for appx 10 to 15 mins. I have started seeing hand pain issues after using this phone within a week. Its feels very heavy while using it. Its better to look for some other less weights phone to work.',\n",
       " 'Speakers are very very weak, produce very low sound, you will need headphone or speakers to listen music, I purchased it on first day and now they are just offering replacement which will not solve the purpose as every samsung M32 5G phone has this problem so I would recommend others to not waste their hard earned money in this phone as cost is too high compared to quality',\n",
       " \"Backwash phone no good phone cheap pro. Mediatek 720 screen TFT and battery charger slow 15 watt only like 10000 phone ..nothing good..samsung very poor phone ..don't buy in 20000 ...TFT like 5000 phone display\",\n",
       " 'Have been using it from last 2 weeks and have charged once in 3 days. Screen in excellent compared to my earlier Samsung m 31s phone.speed of phone is also superb',\n",
       " \"I bought the phone with expectations of high end performance but The phone is over priced by 10000/- and it started having pixel line issue which was all over the left side of screen in 2 days, then the phone is not starting up. luckily It happend on 6th day so I was able to request for replacement but little did I know that it will not be easy.\\nReplacement was cancelled because the phone is not starting and they needed IMEI number for verification which I already informed to amazon,\\nI have contacted customer service multiple times but they always say that the phone will be returned easily but it has not returned till this date. They said they have filed a compliant against logistics department but no resolution till this date.\\nThere were two instances when they didn't even bother to come pick up location and cancelled the pickup.\\nI am complaining in the consumer forum because it is clearly fraud.\\n\\nWorst phone and worst service by Amazon.\\n\\nDon't buy this phone. Go for 10k range phone.\",\n",
       " 'Box seal damage.Everyone please be aware',\n",
       " 'Received what I ordered.\\nReceived on time which is good, Thanks Amazon Team.\\nGood Quality mobile from Samsung.\\nCheapest 5g ever with 12 band support.\\nPurchased for my wife she is happy with phone.\\nThis worth and value for money 💰 I would say.\\nSky Blue 🔵 color looks premium!',\n",
       " \"I bought samsung M32 mobile last week.it It's mobile speaker was not working good. mobile speaker was too low audible while speaking calls..I want replace my but Amazon technician said it is good working I am booked for another inspection I feel dissappointing. Dont buy this product from Amazon return/replacement policy is too bad.\",\n",
       " 'Gorgeous Blue glass body. Quick charge. Good screen, but not Crystal Clear. Samsung Apps are Confusing. Little heavier. Battery holding not that longer for the given capacity.\\nTHE PHONE HAD A FALL. SERVICE CENTRE CHARGED RS. 4400/ FOR REPLACEMENT OF SCREEN.',\n",
       " 'I just loved this phone using it now for about 20-25 days. Ordered it the same day of it’s launch and the best part received my phone within 24 hours . Qualities which are winning my heart are :\\n1. It’s premium look give more class to the phone\\n2. It’s a perfect size phone with 16.55 cm huge screen and still it’s a light weight phone very convenient to carry.\\n3. Battery back up is amazing . It gives 24 hours or even more performance with wifi which is amazing .\\n4. It’s quad camera setup gives you best pictures and again quality is just amazing .\\n5. Selfie camera gives you perfect selfie which is 13MP.\\n6. Lock censors work superb .\\n7. Sound quality is amazing and very soothing to ears .\\n8. Quality of screen is amazing.\\n9. Performance is also great .\\n10. Samsung has given all the premium feature in this range with perfect storage space.\\nMy reason for choosing this phone was it’s 5g 12 band network support but with this i got all the premium features. I am super happy with my choice . Thanks Samsung.',\n",
       " 'Camera quality is too poor build quality is also poor',\n",
       " 'At this cost, lots of options are available in market with far superior configuration.',\n",
       " \"It's a worst mobile phone ever, Samsung proof that they are loos their credibility in India. This phone can not be worth more than 8k to 10 k. Camera is very poor, You can only use single Sim if you are using Micro SD card, Display is very poor , plz don't buy this phone. I think Samsung is going footprint of NOKIA .\",\n",
       " 'I had written a good review but today I am very sorry, this phone hang and stuck frequently I would say, overall this fon is Not a good one, sometime it switched off automatically, I have to go to servicing center, samsung you need some upgrade to fulfill the heart of a customer',\n",
       " \"Cons:\\n1. Charger Adapter is only 15W Fast Charging unit. It takes nearly 2 hours to get fully charged\\n2. Charger wire length is less than 2 feet (comparatively less to the normal length of Charger wire )\\n3. Fully charged phone will stand only 1 day if we use the phone at full level (use internet + calls ) through out the day.\\nPros:\\n1. We can use secure folder option for securing confidential info/apps and data when we hand over the phone to some body either using finger print or pin or a pattern which is different from phone pattern.\\n2. I got phone with RAM of 6 GB and installed several apps and used , phone doesn't show any slow down in speed.\\n3. Finger print sensor at side switch on/off button seems to be attractive.\",\n",
       " \"Bought it on the first day of launch. Delivered the next day. Very fast delivery by Amazon. Have been using it for last two days.\\n\\nPros\\n1. Phone has glass at the back which gives it a premium look. Feels stylish to carry it along.\\n2. As usual, Samsung screen is smooth. Good picture clarity.\\n3. Adaptive brightness 8s one of the best I've come across till date.\\n4. Phone is very light.\\n5. Camera quality is also very good. Front camera is also decent.\\n6. Battery life is more than 24hrs for regular browsing over 24*7 wifi connection.\\n7. Fingerprint sensor on right side is handy.\\n\\nCons\\n1. Charger is only 15 Watt. 25/30 Watt would have been better.\\n2. Nothing else as of now.\\n\\nI feel good holding and using this Phone. If there is any chance then I'll update the review.\",\n",
       " \"Good phone till now except the finger print button location which accidentally pressed always when we are holding the phone\\nUpdate: reducing a star\\nFacing glitches, not able to hear when I call to some body at first, if I keep try 2nd or 3rd time, then only I can hear.\\nIf it connect first then voice is not clear. Never faced any of these in my earlier realme ph\\nCharging time taking hell lot of time.\\nUpdate: pls don't this phone, it's speaker is not clear, when I call its giving some disturbance not able hear the voice clearly\",\n",
       " 'Perfect as per the specifications given in this price.',\n",
       " \"Battery of Mobile device is what energy is to a living being. M32 5g has a very poor battery. Had bought this branded device with much expectations but this device's poor battery performance has let me down. Above all, replacement request was also not honoured by Amazon.\",\n",
       " 'They really need to work like motorola',\n",
       " '1) Battery drains out fast which is important parameter as we r using 4G network still, if 5G then we need to avoid buying it\\n2) Specification says its fast charging but it takes 3 hours to charge full.\\n3) Camera is not much good as expected.\\n4) As it has 8gb ram internet and other operations works faster.\\n5) brightness is not much\\n6) Sim slot opening pin was not given which is very basic thing\\n7) charger cable is short, if they increase .25m\\n\\nFor the above points makes me to dislike 👎 this product.',\n",
       " 'Vestage of money produt display not good',\n",
       " 'This product is one of the best made in india product from Samsung and I recommend to go everyone in mid range phones with high features . Go for it and cons is actually nothing but if price they can bring down to 19k will be rocking and can create revolution in the mid segment of phones.Truely a monster and 5G oriented mobile …',\n",
       " \"The worst phone I've ever purchased!\\n1.Battery: very poor, battery drains quickly and takes 2.5 hours to fully charge a phone in idle mode. False commitment of fast changing and useless 5000mah battery!\\n2.The phone keeps getting hang, if using 3-4 apps simultaneously.\\n3. The Camera is worse! Front cam is 3rd class. You have a better camera in M31 Samsung, which is cheaper than this.\\nI had bought this phone on 13th sept 21, and had raised a replacement on 20th sept on this app, and chose 22nd as a date for technician visit. (I was given an option by amazon app from 21st to 25th).\\nThe technician didn't visit on 22nd and I called customer service dept to check about it. They informe that replacement window had already past on 21st, then I asked why was I given an option by this app for a technical visit on 22nd? Then he raised the same concern with his managet and said I'll be getting a reply soon.\\nI didn't get any response, so I contacted the customer service dept again today, the higher dept to which this issue was raised has resolved it without informing and is not willing to talk to me.\\nThey have considered this phone fit without physically verifying, and are not willing to communicate the application glitch which allowed me to book a technician visit which was on the next day of the last replacement day.\\nVery good amazon! Thank you for this experience. This will be the last time I will be ordering an electronic item from you.\",\n",
       " 'Play Video\\n Sound is not enough but can be adjusted.',\n",
       " 'I will suggest this phone for those have network issue, my previous poco phone gives me 2 to 4 Mbps speed on Airtel network,but this samsung 5g gives me excellent signal inside home and rocking speed of 35 Mbps on Airtel network, although the price is high that the competitors but is worth because of samsung quality',\n",
       " 'I bought a 8GB+128GB version. This 5000MAH battery is a useless one.\\n\\nOn first day the phone was unplugged at 100% recharge at 7PM Saturday & battery drained to 25% by 11.30AM on sunday. The Battery Save mode was ON all the time. No calls made & most of the time the phone was lying in idle. Just 5 hours of light browsing was made.\\n\\nAgain today unplugged by 5AM & by 4.30PM the battery drained to 48% with 3hrs of browsing usage, no calls made & kept idle most of the time.\\n\\nYet another unreliable heavily speculated product from samsung india 💩🤯👎.\\n\\nMy 5 year old Moto G5S+ 3000MAH battery is doing the same job after all these time of heavy use 👏👏 Kudos Motorola.\\n\\nImagine what the gamers could use this useless phone of meger battery life.\\n\\nThe so called 15W Fast charger is outdated & bulky, an useless accesorie. It takes 3 hours to full charge this handset. 🐢😤🤬\\n\\nIf customers have the chance to get refund for this product as per 7 days replacement policy then undoubtedly everyone will choose that option & get rid of this sxxt phone.\\n\\nMost of the time the screen response is also cheap. So diificult or even non-responsive to copy OTP or other messages from the screen.',\n",
       " \"Dear friends kindly don't buy this mobile. for me on the third day itself my mobile board is dead.\",\n",
       " 'I bought this mobile a week ago.\\nFeeling great with battery life\\nNo heating issue, no software problems faced.\\n\\nCamera is reasonably good.\\n\\nVolume of speaker requires enhancement.\\nHowever with wired and Bluetooth headset I am getting convinced.\\nOverall nice product\\n\\nSuggestion\\nIf this same mobile comes with dual sim and memory card slot, it would be great 👍 👌',\n",
       " 'Over heat is produced while charging and when wattsapp messages receive and downloading. Spoke to customer care executive but they are not ready to take return',\n",
       " \"Phone look is nice,\\nBattery drain 65% after normal use 4 hours and 15 min.\\nCamera is not as 48 mp if I compare my vivo phone 13 Mp is better than this\\nIf I talk about all over performance so phone is only good looking else nothing is in this device is good\\nPlz don't waste your money\",\n",
       " 'Good 5G phone',\n",
       " 'Smooth touch, future ready with 5g, sleek design, expandable memory option upto 1 tb.\\nFirst impression of the phone is good,when used phone continuously for over 2 hrs, videos and downloads and battery went from 50% to 25%, so i expect it to run for a day with full charge. Fast charge is also excellent, but not like other fast charges available in market. Its 1 min for 1% approx\\nThere has been a issue with the M series of phones with UI not responding and system hangs, but this processor on m32 seems to be strong and they have I reckon resolved the issue (recommended not to use Samsung in build apps much as they consume lot of data and there is unnecessary lots of cashed data stored).\\nCamera is OK, but they have lot of features like macro cam for close up night mode and have snap chat filters pre-added on camera which makes it fun and handy.\\nOverall a perfect buy at this price range.',\n",
       " 'This phone delivers the performance it promises. RAM, battery life, camera, processor too good. Samsung smart switch app removed all the hassles of changing the phone.',\n",
       " 'Received damaged product. really disappointed.',\n",
       " 'After using one month I am writing this review,\\n1. Galaxy M30s is better when compared to M32 5G, M30s has good battery capacity and camera quality,\\n2. The camera quality is poor and the pixels.\\n3. In this phone we can expect only 5G option that too we have to check after upgrading the sim.\\n4. Regarding softwares I will post after updating the new software installation from Samsung,',\n",
       " \"The quality of camera, screen and performance or not at all good.camera quality is very very poor not even capturing photo like a phone of cost 3k. And the return policy of amazon was worst. Not a proper response by the executives of amazon. They are not accepting the return of this product, don't know the reason behind this. Dont Why they are enecouranging sale of this product, when they are getting similar problem form multiple customers. Belief on amazon have worsening day by day.. literally disopinted with the amazon.\",\n",
       " 'Camera quality is terrible. Touch pad is not working. I have raised a complaint asking for refund.',\n",
       " 'Samsung M32 5G is a rubbish mobile from Samsung and more than that Amazon has a return and replace policy. No return even if there is a problem with the product. Remove Friends Samsung and Amazon from your life. Both are waste of money and waste of time. Amazon does not replace even after giving a bad mobile. If there is such a policy, who will buy the product online?',\n",
       " \"Mera tv me Screen mirrors nahi hota, Remote nahi he, infra red nahi he, pdf file open nahi hoti, speed 8 gb jaisa nahi he, finger print senser kuch khas nahi he, unlock karne ke bar bar pin dalni padti he, muze bilkul pasand nahi ye ye galaxy phone, waste of money. Reshmi not 7 pro achha he, jisme sab kuch he. Don't bye plese\",\n",
       " 'The phone is best . not for heavy games and all really a good mobile with a great battery backup.',\n",
       " 'I was very disappointed because First I received my mobile with crack on Backside of mobile, but thanks to Amazon team , they replaced my mobile with new one within 1 day , really appreciated their quick decision and response, about product, phone is amazing with all features....must buy & try it..']"
      ]
     },
     "execution_count": 157,
     "metadata": {},
     "output_type": "execute_result"
    }
   ],
   "source": [
    "reviews"
   ]
  },
  {
   "cell_type": "code",
   "execution_count": 158,
   "metadata": {},
   "outputs": [],
   "source": [
    "for i in range(len(reviews)):\n",
    "    reviews[i] = reviews[i].replace('\\n','').strip()"
   ]
  },
  {
   "cell_type": "code",
   "execution_count": 76,
   "metadata": {},
   "outputs": [
    {
     "name": "stdout",
     "output_type": "stream",
     "text": [
      "Bought it on the first day of launch. Delivered the next day. Very fast delivery by Amazon. Have been using it for last two days.Pros1. Phone has glass at the back which gives it a premium look. Feels stylish to carry it along.2. As usual, Samsung screen is smooth. Good picture clarity.3. Adaptive brightness 8s one of the best I've come across till date.4. Phone is very light.5. Camera quality is also very good. Front camera is also decent.6. Battery life is more than 24hrs for regular browsing over 24*7 wifi connection.7. Fingerprint sensor on right side is handy.Cons1. Charger is only 15 Watt. 25/30 Watt would have been better.2. Nothing else as of now.I feel good holding and using this Phone. If there is any chance then I'll update the review.\n"
     ]
    }
   ],
   "source": [
    "for review in reviews[1:]:\n",
    "    print(str(review))\n",
    "    break"
   ]
  },
  {
   "cell_type": "code",
   "execution_count": 159,
   "metadata": {},
   "outputs": [],
   "source": [
    "reviews='~'.join(reviews)"
   ]
  },
  {
   "cell_type": "code",
   "execution_count": 160,
   "metadata": {},
   "outputs": [
    {
     "data": {
      "text/plain": [
       "\"~Dislike- camera~First let me give a review of the mobile. I bought 8 and 128gb version. Overall is good. But it says it's fast charging but to charge it from 20% to 100% it's taking more than 2 hours. And with moderate use the battery will last for 30 odd hours, including the night time when we are not using it atall. Got the product on 30th October. After using for 2days suddenly the display was not working properly and after 10-15minutes it went totally blank. Now nothing is visible. Display totally gone.Tried to raise a replacement but as per Amazon a technical person will visit and check, and after his report they will proceed further. Ok, no issues with this, but the slot they gave is after 5days. They are delevering your product in 1day after you have ordered, but if there is any issue , them they are taking more than a week to replace it. That's not acceptable. Let's see what happens after the technician visit. Will provide the next updateGot the new phone after 10days. It was a very very bad experience while returning the product. Technician was scheduled after 3 days i raised request but no one showed up, got no calls from them. No one picked my call. I was told to reschedule it. I did for a time slot of 10 AM to 2PM (again after 48hours). Again no one came. I called to amazon customer and they told me to again reschedule. I dropped 3 mails escalating it. Then the techinicain called me and came after 6PM.I finally got the phone replaced on 10th November.The camera is not as good as it shoud be. Battery is bad. It takes more than 2.5 hours to full charge and stays for just over a day. (I dont play games on phone)~3 hours to charge and heating issue with phone and very hard attitude of Amazon to refund. Phone sicks~I have multiple feedback or this model. Overall I can give is 3 star only.Battery life is GoodDesign and look is goodBut there are many cons:Display looks very much shrinkedCamera specially in night mode is very very badFinger print reader most of the times does not take it. Tried many many times adding fingers and changing it, but reader quality is very badCharging cable received in the box is very small. Power adapter is of poor quality.Loud speaker is not at all loudOverall not very happy being a Samsung customer and Samsung product.~I sold the phone sameday somehow on olx in 4k loss. Amazon doesn’t provide return.Phone is a joke.Plain M32 had full hd screen and now with 5G price has gone up by 6k and display is surprisingly half hd(HD+) . This is plain loot.Plastic is cheap.Camera is worst than any 10k phnSlow processorEven screen lags in scrolling, such bad refresh ratePathetic Processor and ramOverall its from 2012 times where HD+ was a thing. This phone is 9 yrs late.Never buy samsung in this segment.~Phone features are ok but Samsung should consider amoled display in this price segment. Although screen is very clear comparative to other brands but it should be sAmoled.~I personally felt display and front cam ok ok but atleast rear cam for 23k 48mp its not good quality also. I am preferred to buy Samsung but not this model~I have brought this phone during the first day of launch. I was expecting something better could be involved in this mobile but literally waste. Phone is getting heating issues while we speak any calls for appx 10 to 15 mins. I have started seeing hand pain issues after using this phone within a week. Its feels very heavy while using it. Its better to look for some other less weights phone to work.~Speakers are very very weak, produce very low sound, you will need headphone or speakers to listen music, I purchased it on first day and now they are just offering replacement which will not solve the purpose as every samsung M32 5G phone has this problem so I would recommend others to not waste their hard earned money in this phone as cost is too high compared to quality~Backwash phone no good phone cheap pro. Mediatek 720 screen TFT and battery charger slow 15 watt only like 10000 phone ..nothing good..samsung very poor phone ..don't buy in 20000 ...TFT like 5000 phone display~Have been using it from last 2 weeks and have charged once in 3 days. Screen in excellent compared to my earlier Samsung m 31s phone.speed of phone is also superb~I bought the phone with expectations of high end performance but The phone is over priced by 10000/- and it started having pixel line issue which was all over the left side of screen in 2 days, then the phone is not starting up. luckily It happend on 6th day so I was able to request for replacement but little did I know that it will not be easy.Replacement was cancelled because the phone is not starting and they needed IMEI number for verification which I already informed to amazon,I have contacted customer service multiple times but they always say that the phone will be returned easily but it has not returned till this date. They said they have filed a compliant against logistics department but no resolution till this date.There were two instances when they didn't even bother to come pick up location and cancelled the pickup.I am complaining in the consumer forum because it is clearly fraud.Worst phone and worst service by Amazon.Don't buy this phone. Go for 10k range phone.~Box seal damage.Everyone please be aware~Received what I ordered.Received on time which is good, Thanks Amazon Team.Good Quality mobile from Samsung.Cheapest 5g ever with 12 band support.Purchased for my wife she is happy with phone.This worth and value for money 💰 I would say.Sky Blue 🔵 color looks premium!~I bought samsung M32 mobile last week.it It's mobile speaker was not working good. mobile speaker was too low audible while speaking calls..I want replace my but Amazon technician said it is good working I am booked for another inspection I feel dissappointing. Dont buy this product from Amazon return/replacement policy is too bad.~Gorgeous Blue glass body. Quick charge. Good screen, but not Crystal Clear. Samsung Apps are Confusing. Little heavier. Battery holding not that longer for the given capacity.THE PHONE HAD A FALL. SERVICE CENTRE CHARGED RS. 4400/ FOR REPLACEMENT OF SCREEN.~I just loved this phone using it now for about 20-25 days. Ordered it the same day of it’s launch and the best part received my phone within 24 hours . Qualities which are winning my heart are :1. It’s premium look give more class to the phone2. It’s a perfect size phone with 16.55 cm huge screen and still it’s a light weight phone very convenient to carry.3. Battery back up is amazing . It gives 24 hours or even more performance with wifi which is amazing .4. It’s quad camera setup gives you best pictures and again quality is just amazing .5. Selfie camera gives you perfect selfie which is 13MP.6. Lock censors work superb .7. Sound quality is amazing and very soothing to ears .8. Quality of screen is amazing.9. Performance is also great .10. Samsung has given all the premium feature in this range with perfect storage space.My reason for choosing this phone was it’s 5g 12 band network support but with this i got all the premium features. I am super happy with my choice . Thanks Samsung.~Camera quality is too poor build quality is also poor~At this cost, lots of options are available in market with far superior configuration.~It's a worst mobile phone ever, Samsung proof that they are loos their credibility in India. This phone can not be worth more than 8k to 10 k. Camera is very poor, You can only use single Sim if you are using Micro SD card, Display is very poor , plz don't buy this phone. I think Samsung is going footprint of NOKIA .~I had written a good review but today I am very sorry, this phone hang and stuck frequently I would say, overall this fon is Not a good one, sometime it switched off automatically, I have to go to servicing center, samsung you need some upgrade to fulfill the heart of a customer~Cons:1. Charger Adapter is only 15W Fast Charging unit. It takes nearly 2 hours to get fully charged2. Charger wire length is less than 2 feet (comparatively less to the normal length of Charger wire )3. Fully charged phone will stand only 1 day if we use the phone at full level (use internet + calls ) through out the day.Pros:1. We can use secure folder option for securing confidential info/apps and data when we hand over the phone to some body either using finger print or pin or a pattern which is different from phone pattern.2. I got phone with RAM of 6 GB and installed several apps and used , phone doesn't show any slow down in speed.3. Finger print sensor at side switch on/off button seems to be attractive.~Bought it on the first day of launch. Delivered the next day. Very fast delivery by Amazon. Have been using it for last two days.Pros1. Phone has glass at the back which gives it a premium look. Feels stylish to carry it along.2. As usual, Samsung screen is smooth. Good picture clarity.3. Adaptive brightness 8s one of the best I've come across till date.4. Phone is very light.5. Camera quality is also very good. Front camera is also decent.6. Battery life is more than 24hrs for regular browsing over 24*7 wifi connection.7. Fingerprint sensor on right side is handy.Cons1. Charger is only 15 Watt. 25/30 Watt would have been better.2. Nothing else as of now.I feel good holding and using this Phone. If there is any chance then I'll update the review.~Good phone till now except the finger print button location which accidentally pressed always when we are holding the phoneUpdate: reducing a starFacing glitches, not able to hear when I call to some body at first, if I keep try 2nd or 3rd time, then only I can hear.If it connect first then voice is not clear. Never faced any of these in my earlier realme phCharging time taking hell lot of time.Update: pls don't this phone, it's speaker is not clear, when I call its giving some disturbance not able hear the voice clearly~Perfect as per the specifications given in this price.~Battery of Mobile device is what energy is to a living being. M32 5g has a very poor battery. Had bought this branded device with much expectations but this device's poor battery performance has let me down. Above all, replacement request was also not honoured by Amazon.~They really need to work like motorola~1) Battery drains out fast which is important parameter as we r using 4G network still, if 5G then we need to avoid buying it2) Specification says its fast charging but it takes 3 hours to charge full.3) Camera is not much good as expected.4) As it has 8gb ram internet and other operations works faster.5) brightness is not much6) Sim slot opening pin was not given which is very basic thing7) charger cable is short, if they increase .25mFor the above points makes me to dislike 👎 this product.~Vestage of money produt display not good~This product is one of the best made in india product from Samsung and I recommend to go everyone in mid range phones with high features . Go for it and cons is actually nothing but if price they can bring down to 19k will be rocking and can create revolution in the mid segment of phones.Truely a monster and 5G oriented mobile …~The worst phone I've ever purchased!1.Battery: very poor, battery drains quickly and takes 2.5 hours to fully charge a phone in idle mode. False commitment of fast changing and useless 5000mah battery!2.The phone keeps getting hang, if using 3-4 apps simultaneously.3. The Camera is worse! Front cam is 3rd class. You have a better camera in M31 Samsung, which is cheaper than this.I had bought this phone on 13th sept 21, and had raised a replacement on 20th sept on this app, and chose 22nd as a date for technician visit. (I was given an option by amazon app from 21st to 25th).The technician didn't visit on 22nd and I called customer service dept to check about it. They informe that replacement window had already past on 21st, then I asked why was I given an option by this app for a technical visit on 22nd? Then he raised the same concern with his managet and said I'll be getting a reply soon.I didn't get any response, so I contacted the customer service dept again today, the higher dept to which this issue was raised has resolved it without informing and is not willing to talk to me.They have considered this phone fit without physically verifying, and are not willing to communicate the application glitch which allowed me to book a technician visit which was on the next day of the last replacement day.Very good amazon! Thank you for this experience. This will be the last time I will be ordering an electronic item from you.~Play Video Sound is not enough but can be adjusted.~I will suggest this phone for those have network issue, my previous poco phone gives me 2 to 4 Mbps speed on Airtel network,but this samsung 5g gives me excellent signal inside home and rocking speed of 35 Mbps on Airtel network, although the price is high that the competitors but is worth because of samsung quality~I bought a 8GB+128GB version. This 5000MAH battery is a useless one.On first day the phone was unplugged at 100% recharge at 7PM Saturday & battery drained to 25% by 11.30AM on sunday. The Battery Save mode was ON all the time. No calls made & most of the time the phone was lying in idle. Just 5 hours of light browsing was made.Again today unplugged by 5AM & by 4.30PM the battery drained to 48% with 3hrs of browsing usage, no calls made & kept idle most of the time.Yet another unreliable heavily speculated product from samsung india 💩🤯👎.My 5 year old Moto G5S+ 3000MAH battery is doing the same job after all these time of heavy use 👏👏 Kudos Motorola.Imagine what the gamers could use this useless phone of meger battery life.The so called 15W Fast charger is outdated & bulky, an useless accesorie. It takes 3 hours to full charge this handset. 🐢😤🤬If customers have the chance to get refund for this product as per 7 days replacement policy then undoubtedly everyone will choose that option & get rid of this sxxt phone.Most of the time the screen response is also cheap. So diificult or even non-responsive to copy OTP or other messages from the screen.~Dear friends kindly don't buy this mobile. for me on the third day itself my mobile board is dead.~I bought this mobile a week ago.Feeling great with battery lifeNo heating issue, no software problems faced.Camera is reasonably good.Volume of speaker requires enhancement.However with wired and Bluetooth headset I am getting convinced.Overall nice productSuggestionIf this same mobile comes with dual sim and memory card slot, it would be great 👍 👌~Over heat is produced while charging and when wattsapp messages receive and downloading. Spoke to customer care executive but they are not ready to take return~Phone look is nice,Battery drain 65% after normal use 4 hours and 15 min.Camera is not as 48 mp if I compare my vivo phone 13 Mp is better than thisIf I talk about all over performance so phone is only good looking else nothing is in this device is goodPlz don't waste your money~Good 5G phone~Smooth touch, future ready with 5g, sleek design, expandable memory option upto 1 tb.First impression of the phone is good,when used phone continuously for over 2 hrs, videos and downloads and battery went from 50% to 25%, so i expect it to run for a day with full charge. Fast charge is also excellent, but not like other fast charges available in market. Its 1 min for 1% approxThere has been a issue with the M series of phones with UI not responding and system hangs, but this processor on m32 seems to be strong and they have I reckon resolved the issue (recommended not to use Samsung in build apps much as they consume lot of data and there is unnecessary lots of cashed data stored).Camera is OK, but they have lot of features like macro cam for close up night mode and have snap chat filters pre-added on camera which makes it fun and handy.Overall a perfect buy at this price range.~This phone delivers the performance it promises. RAM, battery life, camera, processor too good. Samsung smart switch app removed all the hassles of changing the phone.~Received damaged product. really disappointed.~After using one month I am writing this review,1. Galaxy M30s is better when compared to M32 5G, M30s has good battery capacity and camera quality,2. The camera quality is poor and the pixels.3. In this phone we can expect only 5G option that too we have to check after upgrading the sim.4. Regarding softwares I will post after updating the new software installation from Samsung,~The quality of camera, screen and performance or not at all good.camera quality is very very poor not even capturing photo like a phone of cost 3k. And the return policy of amazon was worst. Not a proper response by the executives of amazon. They are not accepting the return of this product, don't know the reason behind this. Dont Why they are enecouranging sale of this product, when they are getting similar problem form multiple customers. Belief on amazon have worsening day by day.. literally disopinted with the amazon.~Camera quality is terrible. Touch pad is not working. I have raised a complaint asking for refund.~Samsung M32 5G is a rubbish mobile from Samsung and more than that Amazon has a return and replace policy. No return even if there is a problem with the product. Remove Friends Samsung and Amazon from your life. Both are waste of money and waste of time. Amazon does not replace even after giving a bad mobile. If there is such a policy, who will buy the product online?~Mera tv me Screen mirrors nahi hota, Remote nahi he, infra red nahi he, pdf file open nahi hoti, speed 8 gb jaisa nahi he, finger print senser kuch khas nahi he, unlock karne ke bar bar pin dalni padti he, muze bilkul pasand nahi ye ye galaxy phone, waste of money. Reshmi not 7 pro achha he, jisme sab kuch he. Don't bye plese~The phone is best . not for heavy games and all really a good mobile with a great battery backup.~I was very disappointed because First I received my mobile with crack on Backside of mobile, but thanks to Amazon team , they replaced my mobile with new one within 1 day , really appreciated their quick decision and response, about product, phone is amazing with all features....must buy & try it..\""
      ]
     },
     "execution_count": 160,
     "metadata": {},
     "output_type": "execute_result"
    }
   ],
   "source": [
    "reviews"
   ]
  },
  {
   "cell_type": "code",
   "execution_count": 162,
   "metadata": {},
   "outputs": [],
   "source": [
    "reviews=bytes(reviews, 'utf-8')"
   ]
  },
  {
   "cell_type": "code",
   "execution_count": 163,
   "metadata": {},
   "outputs": [],
   "source": [
    "with open('reviews.txt', 'wb') as f:\n",
    "    f.write(reviews)"
   ]
  },
  {
   "cell_type": "code",
   "execution_count": 164,
   "metadata": {},
   "outputs": [
    {
     "data": {
      "text/plain": [
       "['',\n",
       " 'Dislike- camera',\n",
       " \"First let me give a review of the mobile. I bought 8 and 128gb version. Overall is good. But it says it's fast charging but to charge it from 20% to 100% it's taking more than 2 hours. And with moderate use the battery will last for 30 odd hours, including the night time when we are not using it atall. Got the product on 30th October. After using for 2days suddenly the display was not working properly and after 10-15minutes it went totally blank. Now nothing is visible. Display totally gone.Tried to raise a replacement but as per Amazon a technical person will visit and check, and after his report they will proceed further. Ok, no issues with this, but the slot they gave is after 5days. They are delevering your product in 1day after you have ordered, but if there is any issue , them they are taking more than a week to replace it. That's not acceptable. Let's see what happens after the technician visit. Will provide the next updateGot the new phone after 10days. It was a very very bad experience while returning the product. Technician was scheduled after 3 days i raised request but no one showed up, got no calls from them. No one picked my call. I was told to reschedule it. I did for a time slot of 10 AM to 2PM (again after 48hours). Again no one came. I called to amazon customer and they told me to again reschedule. I dropped 3 mails escalating it. Then the techinicain called me and came after 6PM.I finally got the phone replaced on 10th November.The camera is not as good as it shoud be. Battery is bad. It takes more than 2.5 hours to full charge and stays for just over a day. (I dont play games on phone)\",\n",
       " '3 hours to charge and heating issue with phone and very hard attitude of Amazon to refund. Phone sicks',\n",
       " 'I have multiple feedback or this model. Overall I can give is 3 star only.Battery life is GoodDesign and look is goodBut there are many cons:Display looks very much shrinkedCamera specially in night mode is very very badFinger print reader most of the times does not take it. Tried many many times adding fingers and changing it, but reader quality is very badCharging cable received in the box is very small. Power adapter is of poor quality.Loud speaker is not at all loudOverall not very happy being a Samsung customer and Samsung product.',\n",
       " 'I sold the phone sameday somehow on olx in 4k loss. Amazon doesn’t provide return.Phone is a joke.Plain M32 had full hd screen and now with 5G price has gone up by 6k and display is surprisingly half hd(HD+) . This is plain loot.Plastic is cheap.Camera is worst than any 10k phnSlow processorEven screen lags in scrolling, such bad refresh ratePathetic Processor and ramOverall its from 2012 times where HD+ was a thing. This phone is 9 yrs late.Never buy samsung in this segment.',\n",
       " 'Phone features are ok but Samsung should consider amoled display in this price segment. Although screen is very clear comparative to other brands but it should be sAmoled.',\n",
       " 'I personally felt display and front cam ok ok but atleast rear cam for 23k 48mp its not good quality also. I am preferred to buy Samsung but not this model',\n",
       " 'I have brought this phone during the first day of launch. I was expecting something better could be involved in this mobile but literally waste. Phone is getting heating issues while we speak any calls for appx 10 to 15 mins. I have started seeing hand pain issues after using this phone within a week. Its feels very heavy while using it. Its better to look for some other less weights phone to work.',\n",
       " 'Speakers are very very weak, produce very low sound, you will need headphone or speakers to listen music, I purchased it on first day and now they are just offering replacement which will not solve the purpose as every samsung M32 5G phone has this problem so I would recommend others to not waste their hard earned money in this phone as cost is too high compared to quality',\n",
       " \"Backwash phone no good phone cheap pro. Mediatek 720 screen TFT and battery charger slow 15 watt only like 10000 phone ..nothing good..samsung very poor phone ..don't buy in 20000 ...TFT like 5000 phone display\",\n",
       " 'Have been using it from last 2 weeks and have charged once in 3 days. Screen in excellent compared to my earlier Samsung m 31s phone.speed of phone is also superb',\n",
       " \"I bought the phone with expectations of high end performance but The phone is over priced by 10000/- and it started having pixel line issue which was all over the left side of screen in 2 days, then the phone is not starting up. luckily It happend on 6th day so I was able to request for replacement but little did I know that it will not be easy.Replacement was cancelled because the phone is not starting and they needed IMEI number for verification which I already informed to amazon,I have contacted customer service multiple times but they always say that the phone will be returned easily but it has not returned till this date. They said they have filed a compliant against logistics department but no resolution till this date.There were two instances when they didn't even bother to come pick up location and cancelled the pickup.I am complaining in the consumer forum because it is clearly fraud.Worst phone and worst service by Amazon.Don't buy this phone. Go for 10k range phone.\",\n",
       " 'Box seal damage.Everyone please be aware',\n",
       " 'Received what I ordered.Received on time which is good, Thanks Amazon Team.Good Quality mobile from Samsung.Cheapest 5g ever with 12 band support.Purchased for my wife she is happy with phone.This worth and value for money 💰 I would say.Sky Blue 🔵 color looks premium!',\n",
       " \"I bought samsung M32 mobile last week.it It's mobile speaker was not working good. mobile speaker was too low audible while speaking calls..I want replace my but Amazon technician said it is good working I am booked for another inspection I feel dissappointing. Dont buy this product from Amazon return/replacement policy is too bad.\",\n",
       " 'Gorgeous Blue glass body. Quick charge. Good screen, but not Crystal Clear. Samsung Apps are Confusing. Little heavier. Battery holding not that longer for the given capacity.THE PHONE HAD A FALL. SERVICE CENTRE CHARGED RS. 4400/ FOR REPLACEMENT OF SCREEN.',\n",
       " 'I just loved this phone using it now for about 20-25 days. Ordered it the same day of it’s launch and the best part received my phone within 24 hours . Qualities which are winning my heart are :1. It’s premium look give more class to the phone2. It’s a perfect size phone with 16.55 cm huge screen and still it’s a light weight phone very convenient to carry.3. Battery back up is amazing . It gives 24 hours or even more performance with wifi which is amazing .4. It’s quad camera setup gives you best pictures and again quality is just amazing .5. Selfie camera gives you perfect selfie which is 13MP.6. Lock censors work superb .7. Sound quality is amazing and very soothing to ears .8. Quality of screen is amazing.9. Performance is also great .10. Samsung has given all the premium feature in this range with perfect storage space.My reason for choosing this phone was it’s 5g 12 band network support but with this i got all the premium features. I am super happy with my choice . Thanks Samsung.',\n",
       " 'Camera quality is too poor build quality is also poor',\n",
       " 'At this cost, lots of options are available in market with far superior configuration.',\n",
       " \"It's a worst mobile phone ever, Samsung proof that they are loos their credibility in India. This phone can not be worth more than 8k to 10 k. Camera is very poor, You can only use single Sim if you are using Micro SD card, Display is very poor , plz don't buy this phone. I think Samsung is going footprint of NOKIA .\",\n",
       " 'I had written a good review but today I am very sorry, this phone hang and stuck frequently I would say, overall this fon is Not a good one, sometime it switched off automatically, I have to go to servicing center, samsung you need some upgrade to fulfill the heart of a customer',\n",
       " \"Cons:1. Charger Adapter is only 15W Fast Charging unit. It takes nearly 2 hours to get fully charged2. Charger wire length is less than 2 feet (comparatively less to the normal length of Charger wire )3. Fully charged phone will stand only 1 day if we use the phone at full level (use internet + calls ) through out the day.Pros:1. We can use secure folder option for securing confidential info/apps and data when we hand over the phone to some body either using finger print or pin or a pattern which is different from phone pattern.2. I got phone with RAM of 6 GB and installed several apps and used , phone doesn't show any slow down in speed.3. Finger print sensor at side switch on/off button seems to be attractive.\",\n",
       " \"Bought it on the first day of launch. Delivered the next day. Very fast delivery by Amazon. Have been using it for last two days.Pros1. Phone has glass at the back which gives it a premium look. Feels stylish to carry it along.2. As usual, Samsung screen is smooth. Good picture clarity.3. Adaptive brightness 8s one of the best I've come across till date.4. Phone is very light.5. Camera quality is also very good. Front camera is also decent.6. Battery life is more than 24hrs for regular browsing over 24*7 wifi connection.7. Fingerprint sensor on right side is handy.Cons1. Charger is only 15 Watt. 25/30 Watt would have been better.2. Nothing else as of now.I feel good holding and using this Phone. If there is any chance then I'll update the review.\",\n",
       " \"Good phone till now except the finger print button location which accidentally pressed always when we are holding the phoneUpdate: reducing a starFacing glitches, not able to hear when I call to some body at first, if I keep try 2nd or 3rd time, then only I can hear.If it connect first then voice is not clear. Never faced any of these in my earlier realme phCharging time taking hell lot of time.Update: pls don't this phone, it's speaker is not clear, when I call its giving some disturbance not able hear the voice clearly\",\n",
       " 'Perfect as per the specifications given in this price.',\n",
       " \"Battery of Mobile device is what energy is to a living being. M32 5g has a very poor battery. Had bought this branded device with much expectations but this device's poor battery performance has let me down. Above all, replacement request was also not honoured by Amazon.\",\n",
       " 'They really need to work like motorola',\n",
       " '1) Battery drains out fast which is important parameter as we r using 4G network still, if 5G then we need to avoid buying it2) Specification says its fast charging but it takes 3 hours to charge full.3) Camera is not much good as expected.4) As it has 8gb ram internet and other operations works faster.5) brightness is not much6) Sim slot opening pin was not given which is very basic thing7) charger cable is short, if they increase .25mFor the above points makes me to dislike 👎 this product.',\n",
       " 'Vestage of money produt display not good',\n",
       " 'This product is one of the best made in india product from Samsung and I recommend to go everyone in mid range phones with high features . Go for it and cons is actually nothing but if price they can bring down to 19k will be rocking and can create revolution in the mid segment of phones.Truely a monster and 5G oriented mobile …',\n",
       " \"The worst phone I've ever purchased!1.Battery: very poor, battery drains quickly and takes 2.5 hours to fully charge a phone in idle mode. False commitment of fast changing and useless 5000mah battery!2.The phone keeps getting hang, if using 3-4 apps simultaneously.3. The Camera is worse! Front cam is 3rd class. You have a better camera in M31 Samsung, which is cheaper than this.I had bought this phone on 13th sept 21, and had raised a replacement on 20th sept on this app, and chose 22nd as a date for technician visit. (I was given an option by amazon app from 21st to 25th).The technician didn't visit on 22nd and I called customer service dept to check about it. They informe that replacement window had already past on 21st, then I asked why was I given an option by this app for a technical visit on 22nd? Then he raised the same concern with his managet and said I'll be getting a reply soon.I didn't get any response, so I contacted the customer service dept again today, the higher dept to which this issue was raised has resolved it without informing and is not willing to talk to me.They have considered this phone fit without physically verifying, and are not willing to communicate the application glitch which allowed me to book a technician visit which was on the next day of the last replacement day.Very good amazon! Thank you for this experience. This will be the last time I will be ordering an electronic item from you.\",\n",
       " 'Play Video Sound is not enough but can be adjusted.',\n",
       " 'I will suggest this phone for those have network issue, my previous poco phone gives me 2 to 4 Mbps speed on Airtel network,but this samsung 5g gives me excellent signal inside home and rocking speed of 35 Mbps on Airtel network, although the price is high that the competitors but is worth because of samsung quality',\n",
       " 'I bought a 8GB+128GB version. This 5000MAH battery is a useless one.On first day the phone was unplugged at 100% recharge at 7PM Saturday & battery drained to 25% by 11.30AM on sunday. The Battery Save mode was ON all the time. No calls made & most of the time the phone was lying in idle. Just 5 hours of light browsing was made.Again today unplugged by 5AM & by 4.30PM the battery drained to 48% with 3hrs of browsing usage, no calls made & kept idle most of the time.Yet another unreliable heavily speculated product from samsung india 💩🤯👎.My 5 year old Moto G5S+ 3000MAH battery is doing the same job after all these time of heavy use 👏👏 Kudos Motorola.Imagine what the gamers could use this useless phone of meger battery life.The so called 15W Fast charger is outdated & bulky, an useless accesorie. It takes 3 hours to full charge this handset. 🐢😤🤬If customers have the chance to get refund for this product as per 7 days replacement policy then undoubtedly everyone will choose that option & get rid of this sxxt phone.Most of the time the screen response is also cheap. So diificult or even non-responsive to copy OTP or other messages from the screen.',\n",
       " \"Dear friends kindly don't buy this mobile. for me on the third day itself my mobile board is dead.\",\n",
       " 'I bought this mobile a week ago.Feeling great with battery lifeNo heating issue, no software problems faced.Camera is reasonably good.Volume of speaker requires enhancement.However with wired and Bluetooth headset I am getting convinced.Overall nice productSuggestionIf this same mobile comes with dual sim and memory card slot, it would be great 👍 👌',\n",
       " 'Over heat is produced while charging and when wattsapp messages receive and downloading. Spoke to customer care executive but they are not ready to take return',\n",
       " \"Phone look is nice,Battery drain 65% after normal use 4 hours and 15 min.Camera is not as 48 mp if I compare my vivo phone 13 Mp is better than thisIf I talk about all over performance so phone is only good looking else nothing is in this device is goodPlz don't waste your money\",\n",
       " 'Good 5G phone',\n",
       " 'Smooth touch, future ready with 5g, sleek design, expandable memory option upto 1 tb.First impression of the phone is good,when used phone continuously for over 2 hrs, videos and downloads and battery went from 50% to 25%, so i expect it to run for a day with full charge. Fast charge is also excellent, but not like other fast charges available in market. Its 1 min for 1% approxThere has been a issue with the M series of phones with UI not responding and system hangs, but this processor on m32 seems to be strong and they have I reckon resolved the issue (recommended not to use Samsung in build apps much as they consume lot of data and there is unnecessary lots of cashed data stored).Camera is OK, but they have lot of features like macro cam for close up night mode and have snap chat filters pre-added on camera which makes it fun and handy.Overall a perfect buy at this price range.',\n",
       " 'This phone delivers the performance it promises. RAM, battery life, camera, processor too good. Samsung smart switch app removed all the hassles of changing the phone.',\n",
       " 'Received damaged product. really disappointed.',\n",
       " 'After using one month I am writing this review,1. Galaxy M30s is better when compared to M32 5G, M30s has good battery capacity and camera quality,2. The camera quality is poor and the pixels.3. In this phone we can expect only 5G option that too we have to check after upgrading the sim.4. Regarding softwares I will post after updating the new software installation from Samsung,',\n",
       " \"The quality of camera, screen and performance or not at all good.camera quality is very very poor not even capturing photo like a phone of cost 3k. And the return policy of amazon was worst. Not a proper response by the executives of amazon. They are not accepting the return of this product, don't know the reason behind this. Dont Why they are enecouranging sale of this product, when they are getting similar problem form multiple customers. Belief on amazon have worsening day by day.. literally disopinted with the amazon.\",\n",
       " 'Camera quality is terrible. Touch pad is not working. I have raised a complaint asking for refund.',\n",
       " 'Samsung M32 5G is a rubbish mobile from Samsung and more than that Amazon has a return and replace policy. No return even if there is a problem with the product. Remove Friends Samsung and Amazon from your life. Both are waste of money and waste of time. Amazon does not replace even after giving a bad mobile. If there is such a policy, who will buy the product online?',\n",
       " \"Mera tv me Screen mirrors nahi hota, Remote nahi he, infra red nahi he, pdf file open nahi hoti, speed 8 gb jaisa nahi he, finger print senser kuch khas nahi he, unlock karne ke bar bar pin dalni padti he, muze bilkul pasand nahi ye ye galaxy phone, waste of money. Reshmi not 7 pro achha he, jisme sab kuch he. Don't bye plese\",\n",
       " 'The phone is best . not for heavy games and all really a good mobile with a great battery backup.',\n",
       " 'I was very disappointed because First I received my mobile with crack on Backside of mobile, but thanks to Amazon team , they replaced my mobile with new one within 1 day , really appreciated their quick decision and response, about product, phone is amazing with all features....must buy & try it..']"
      ]
     },
     "execution_count": 164,
     "metadata": {},
     "output_type": "execute_result"
    }
   ],
   "source": [
    "with open('reviews.txt', 'rb') as f:\n",
    "    text = f.read().decode('utf-8')\n",
    "    reviews_list = text.split('~')\n",
    "f.close()\n",
    "reviews_list"
   ]
  },
  {
   "cell_type": "markdown",
   "metadata": {},
   "source": [
    "## Training Model on Amazon Review Dataset:"
   ]
  },
  {
   "cell_type": "code",
   "execution_count": 19,
   "metadata": {},
   "outputs": [],
   "source": [
    "import tensorflow_datasets as tfds\n",
    "data = tfds.load('amazon_us_reviews/Mobile_Electronics_v1_00', split='train', shuffle_files=True)"
   ]
  },
  {
   "cell_type": "code",
   "execution_count": 20,
   "metadata": {},
   "outputs": [
    {
     "name": "stdout",
     "output_type": "stream",
     "text": [
      "<_OptionsDataset shapes: {data: {customer_id: (), helpful_votes: (), marketplace: (), product_category: (), product_id: (), product_parent: (), product_title: (), review_body: (), review_date: (), review_headline: (), review_id: (), star_rating: (), total_votes: (), verified_purchase: (), vine: ()}}, types: {data: {customer_id: tf.string, helpful_votes: tf.int32, marketplace: tf.string, product_category: tf.string, product_id: tf.string, product_parent: tf.string, product_title: tf.string, review_body: tf.string, review_date: tf.string, review_headline: tf.string, review_id: tf.string, star_rating: tf.int32, total_votes: tf.int32, verified_purchase: tf.int64, vine: tf.int64}}>\n"
     ]
    }
   ],
   "source": [
    "import tensorflow as tf\n",
    "assert isinstance(data, tf.data.Dataset)\n",
    "print(data)"
   ]
  },
  {
   "cell_type": "code",
   "execution_count": 28,
   "metadata": {},
   "outputs": [
    {
     "data": {
      "text/html": [
       "<div>\n",
       "<style scoped>\n",
       "    .dataframe tbody tr th:only-of-type {\n",
       "        vertical-align: middle;\n",
       "    }\n",
       "\n",
       "    .dataframe tbody tr th {\n",
       "        vertical-align: top;\n",
       "    }\n",
       "\n",
       "    .dataframe thead th {\n",
       "        text-align: right;\n",
       "    }\n",
       "</style>\n",
       "<table border=\"1\" class=\"dataframe\">\n",
       "  <thead>\n",
       "    <tr style=\"text-align: right;\">\n",
       "      <th></th>\n",
       "      <th>data/customer_id</th>\n",
       "      <th>data/helpful_votes</th>\n",
       "      <th>data/marketplace</th>\n",
       "      <th>data/product_category</th>\n",
       "      <th>data/product_id</th>\n",
       "      <th>data/product_parent</th>\n",
       "      <th>data/product_title</th>\n",
       "      <th>data/review_body</th>\n",
       "      <th>data/review_date</th>\n",
       "      <th>data/review_headline</th>\n",
       "      <th>data/review_id</th>\n",
       "      <th>data/star_rating</th>\n",
       "      <th>data/total_votes</th>\n",
       "      <th>data/verified_purchase</th>\n",
       "      <th>data/vine</th>\n",
       "    </tr>\n",
       "  </thead>\n",
       "  <tbody>\n",
       "    <tr>\n",
       "      <th>0</th>\n",
       "      <td>b'20980074'</td>\n",
       "      <td>0</td>\n",
       "      <td>b'US'</td>\n",
       "      <td>b'Mobile_Electronics'</td>\n",
       "      <td>b'B00D1847NE'</td>\n",
       "      <td>b'274617424'</td>\n",
       "      <td>b'Teenage Mutant Ninja Turtles Boombox CD Play...</td>\n",
       "      <td>b'Does not work'</td>\n",
       "      <td>b'2015-01-09'</td>\n",
       "      <td>b'One Star'</td>\n",
       "      <td>b'R1OVS0D6SEXPW7'</td>\n",
       "      <td>1</td>\n",
       "      <td>0</td>\n",
       "      <td>0</td>\n",
       "      <td>1</td>\n",
       "    </tr>\n",
       "    <tr>\n",
       "      <th>1</th>\n",
       "      <td>b'779273'</td>\n",
       "      <td>0</td>\n",
       "      <td>b'US'</td>\n",
       "      <td>b'Mobile_Electronics'</td>\n",
       "      <td>b'B00KMO6DYG'</td>\n",
       "      <td>b'397452138'</td>\n",
       "      <td>b'4 Gauge Amp Kit Amplifier Install Wiring Com...</td>\n",
       "      <td>b'This is a great wiring kit i used it to set ...</td>\n",
       "      <td>b'2015-08-06'</td>\n",
       "      <td>b'Great kit'</td>\n",
       "      <td>b'R9VSD0ET8FERB'</td>\n",
       "      <td>4</td>\n",
       "      <td>0</td>\n",
       "      <td>0</td>\n",
       "      <td>1</td>\n",
       "    </tr>\n",
       "    <tr>\n",
       "      <th>2</th>\n",
       "      <td>b'15410531'</td>\n",
       "      <td>0</td>\n",
       "      <td>b'US'</td>\n",
       "      <td>b'Mobile_Electronics'</td>\n",
       "      <td>b'B000GWLL0K'</td>\n",
       "      <td>b'948304826'</td>\n",
       "      <td>b'Travel Wall Charger fits Creative Zen Vision...</td>\n",
       "      <td>b'It works great so much faster than USB charg...</td>\n",
       "      <td>b'2007-03-15'</td>\n",
       "      <td>b'A/C Charger for Creative Zen Vision M'</td>\n",
       "      <td>b'R3ISXCZHWLJLBH'</td>\n",
       "      <td>5</td>\n",
       "      <td>0</td>\n",
       "      <td>0</td>\n",
       "      <td>1</td>\n",
       "    </tr>\n",
       "    <tr>\n",
       "      <th>3</th>\n",
       "      <td>b'27389005'</td>\n",
       "      <td>0</td>\n",
       "      <td>b'US'</td>\n",
       "      <td>b'Mobile_Electronics'</td>\n",
       "      <td>b'B008L3JE6Y'</td>\n",
       "      <td>b'466340015'</td>\n",
       "      <td>b'High Grade Robust 360\\xc2\\xb0 Adjustable Car...</td>\n",
       "      <td>b'This product was purchased to hold a monitor...</td>\n",
       "      <td>b'2013-07-30'</td>\n",
       "      <td>b'camera stand'</td>\n",
       "      <td>b'R1TWVUDOFJSQAW'</td>\n",
       "      <td>5</td>\n",
       "      <td>0</td>\n",
       "      <td>0</td>\n",
       "      <td>1</td>\n",
       "    </tr>\n",
       "    <tr>\n",
       "      <th>4</th>\n",
       "      <td>b'2663569'</td>\n",
       "      <td>0</td>\n",
       "      <td>b'US'</td>\n",
       "      <td>b'Mobile_Electronics'</td>\n",
       "      <td>b'B00GHZS4SC'</td>\n",
       "      <td>b'350592810'</td>\n",
       "      <td>b'HDE Multifunctional Bluetooth FM Audio Car K...</td>\n",
       "      <td>b\"it works but it has really bad sound quality...</td>\n",
       "      <td>b'2014-12-31'</td>\n",
       "      <td>b'bad sound quality'</td>\n",
       "      <td>b'R2PEOEUR1LP0GH'</td>\n",
       "      <td>3</td>\n",
       "      <td>0</td>\n",
       "      <td>0</td>\n",
       "      <td>1</td>\n",
       "    </tr>\n",
       "  </tbody>\n",
       "</table>\n",
       "</div>"
      ],
      "text/plain": [
       "  data/customer_id  data/helpful_votes data/marketplace  \\\n",
       "0      b'20980074'                   0            b'US'   \n",
       "1        b'779273'                   0            b'US'   \n",
       "2      b'15410531'                   0            b'US'   \n",
       "3      b'27389005'                   0            b'US'   \n",
       "4       b'2663569'                   0            b'US'   \n",
       "\n",
       "   data/product_category data/product_id data/product_parent  \\\n",
       "0  b'Mobile_Electronics'   b'B00D1847NE'        b'274617424'   \n",
       "1  b'Mobile_Electronics'   b'B00KMO6DYG'        b'397452138'   \n",
       "2  b'Mobile_Electronics'   b'B000GWLL0K'        b'948304826'   \n",
       "3  b'Mobile_Electronics'   b'B008L3JE6Y'        b'466340015'   \n",
       "4  b'Mobile_Electronics'   b'B00GHZS4SC'        b'350592810'   \n",
       "\n",
       "                                  data/product_title  \\\n",
       "0  b'Teenage Mutant Ninja Turtles Boombox CD Play...   \n",
       "1  b'4 Gauge Amp Kit Amplifier Install Wiring Com...   \n",
       "2  b'Travel Wall Charger fits Creative Zen Vision...   \n",
       "3  b'High Grade Robust 360\\xc2\\xb0 Adjustable Car...   \n",
       "4  b'HDE Multifunctional Bluetooth FM Audio Car K...   \n",
       "\n",
       "                                    data/review_body data/review_date  \\\n",
       "0                                   b'Does not work'    b'2015-01-09'   \n",
       "1  b'This is a great wiring kit i used it to set ...    b'2015-08-06'   \n",
       "2  b'It works great so much faster than USB charg...    b'2007-03-15'   \n",
       "3  b'This product was purchased to hold a monitor...    b'2013-07-30'   \n",
       "4  b\"it works but it has really bad sound quality...    b'2014-12-31'   \n",
       "\n",
       "                       data/review_headline     data/review_id  \\\n",
       "0                               b'One Star'  b'R1OVS0D6SEXPW7'   \n",
       "1                              b'Great kit'   b'R9VSD0ET8FERB'   \n",
       "2  b'A/C Charger for Creative Zen Vision M'  b'R3ISXCZHWLJLBH'   \n",
       "3                           b'camera stand'  b'R1TWVUDOFJSQAW'   \n",
       "4                      b'bad sound quality'  b'R2PEOEUR1LP0GH'   \n",
       "\n",
       "   data/star_rating  data/total_votes  data/verified_purchase  data/vine  \n",
       "0                 1                 0                       0          1  \n",
       "1                 4                 0                       0          1  \n",
       "2                 5                 0                       0          1  \n",
       "3                 5                 0                       0          1  \n",
       "4                 3                 0                       0          1  "
      ]
     },
     "execution_count": 28,
     "metadata": {},
     "output_type": "execute_result"
    }
   ],
   "source": [
    "df = tfds.as_dataframe(data)\n",
    "df.head()"
   ]
  },
  {
   "cell_type": "code",
   "execution_count": 173,
   "metadata": {},
   "outputs": [
    {
     "name": "stdout",
     "output_type": "stream",
     "text": [
      "<class 'pandas.core.frame.DataFrame'>\n",
      "Int64Index: 50000 entries, 0 to 49999\n",
      "Data columns (total 2 columns):\n",
      " #   Column        Non-Null Count  Dtype \n",
      "---  ------        --------------  ----- \n",
      " 0   short_review  50000 non-null  object\n",
      " 1   sentiment     50000 non-null  int64 \n",
      "dtypes: int64(1), object(1)\n",
      "memory usage: 1.1+ MB\n"
     ]
    }
   ],
   "source": [
    "df.info()"
   ]
  },
  {
   "cell_type": "code",
   "execution_count": 29,
   "metadata": {},
   "outputs": [],
   "source": [
    "df['sentiment'] = df['data/star_rating'].apply(lambda score: 'positive' if score>=3 else 'negative')\n",
    "df['sentiment'] = df['sentiment'].map({'positive':1, 'negative':0})\n",
    "df['short_review'] = df['data/review_body'].str.decode('utf-8')\n",
    "df = df[['short_review', 'sentiment']]"
   ]
  },
  {
   "cell_type": "code",
   "execution_count": 30,
   "metadata": {},
   "outputs": [
    {
     "name": "stderr",
     "output_type": "stream",
     "text": [
      "c:\\users\\saksh\\appdata\\local\\programs\\python\\python38\\lib\\site-packages\\pandas\\core\\frame.py:4160: SettingWithCopyWarning: \n",
      "A value is trying to be set on a copy of a slice from a DataFrame\n",
      "\n",
      "See the caveats in the documentation: https://pandas.pydata.org/pandas-docs/stable/user_guide/indexing.html#returning-a-view-versus-a-copy\n",
      "  return super().drop(\n"
     ]
    }
   ],
   "source": [
    "n = 54975\n",
    "df.drop(df.tail(n).index,inplace = True)"
   ]
  },
  {
   "cell_type": "code",
   "execution_count": 31,
   "metadata": {},
   "outputs": [
    {
     "data": {
      "text/html": [
       "<div>\n",
       "<style scoped>\n",
       "    .dataframe tbody tr th:only-of-type {\n",
       "        vertical-align: middle;\n",
       "    }\n",
       "\n",
       "    .dataframe tbody tr th {\n",
       "        vertical-align: top;\n",
       "    }\n",
       "\n",
       "    .dataframe thead th {\n",
       "        text-align: right;\n",
       "    }\n",
       "</style>\n",
       "<table border=\"1\" class=\"dataframe\">\n",
       "  <thead>\n",
       "    <tr style=\"text-align: right;\">\n",
       "      <th></th>\n",
       "      <th>short_review</th>\n",
       "      <th>sentiment</th>\n",
       "    </tr>\n",
       "  </thead>\n",
       "  <tbody>\n",
       "    <tr>\n",
       "      <th>0</th>\n",
       "      <td>Does not work</td>\n",
       "      <td>0</td>\n",
       "    </tr>\n",
       "    <tr>\n",
       "      <th>1</th>\n",
       "      <td>This is a great wiring kit i used it to set up...</td>\n",
       "      <td>1</td>\n",
       "    </tr>\n",
       "    <tr>\n",
       "      <th>2</th>\n",
       "      <td>It works great so much faster than USB charger...</td>\n",
       "      <td>1</td>\n",
       "    </tr>\n",
       "    <tr>\n",
       "      <th>3</th>\n",
       "      <td>This product was purchased to hold a monitor o...</td>\n",
       "      <td>1</td>\n",
       "    </tr>\n",
       "    <tr>\n",
       "      <th>4</th>\n",
       "      <td>it works but it has really bad sound quality. ...</td>\n",
       "      <td>1</td>\n",
       "    </tr>\n",
       "  </tbody>\n",
       "</table>\n",
       "</div>"
      ],
      "text/plain": [
       "                                        short_review  sentiment\n",
       "0                                      Does not work          0\n",
       "1  This is a great wiring kit i used it to set up...          1\n",
       "2  It works great so much faster than USB charger...          1\n",
       "3  This product was purchased to hold a monitor o...          1\n",
       "4  it works but it has really bad sound quality. ...          1"
      ]
     },
     "execution_count": 31,
     "metadata": {},
     "output_type": "execute_result"
    }
   ],
   "source": [
    "df.head()"
   ]
  },
  {
   "cell_type": "markdown",
   "metadata": {},
   "source": [
    "## Preprocessing Review Data:"
   ]
  },
  {
   "cell_type": "code",
   "execution_count": 32,
   "metadata": {},
   "outputs": [
    {
     "name": "stderr",
     "output_type": "stream",
     "text": [
      "<ipython-input-32-02cd19f092d9>:14: SettingWithCopyWarning: \n",
      "A value is trying to be set on a copy of a slice from a DataFrame.\n",
      "Try using .loc[row_indexer,col_indexer] = value instead\n",
      "\n",
      "See the caveats in the documentation: https://pandas.pydata.org/pandas-docs/stable/user_guide/indexing.html#returning-a-view-versus-a-copy\n",
      "  df['short_review'] = df['short_review'].apply(lambda x: preprocess(x))\n"
     ]
    }
   ],
   "source": [
    "def preprocess(txt):\n",
    "    txt = re.sub(r\"[^a-zA-Z0-9]\", \" \", txt)\n",
    "    txt = txt.split()\n",
    "    filtered_txt = []\n",
    "    for word in txt:\n",
    "        if word not in stop_words and len(word)>2:\n",
    "            filtered_txt.append(word)\n",
    "    filtered_txt = [lemmatizer.lemmatize(w) for w in filtered_txt if len(w)>1]\n",
    "    filtered_txt = \" \".join(u for u in filtered_txt if u not in (\"?\", \".\", \";\", \":\",  \"!\",'\"')) \n",
    "    return filtered_txt\n",
    "\n",
    "stop_words = stopwords.words('english')\n",
    "lemmatizer = WordNetLemmatizer()\n",
    "df['short_review'] = df['short_review'].apply(lambda x: preprocess(x))"
   ]
  },
  {
   "cell_type": "code",
   "execution_count": 33,
   "metadata": {},
   "outputs": [
    {
     "data": {
      "text/html": [
       "<div>\n",
       "<style scoped>\n",
       "    .dataframe tbody tr th:only-of-type {\n",
       "        vertical-align: middle;\n",
       "    }\n",
       "\n",
       "    .dataframe tbody tr th {\n",
       "        vertical-align: top;\n",
       "    }\n",
       "\n",
       "    .dataframe thead th {\n",
       "        text-align: right;\n",
       "    }\n",
       "</style>\n",
       "<table border=\"1\" class=\"dataframe\">\n",
       "  <thead>\n",
       "    <tr style=\"text-align: right;\">\n",
       "      <th></th>\n",
       "      <th>short_review</th>\n",
       "      <th>sentiment</th>\n",
       "    </tr>\n",
       "  </thead>\n",
       "  <tbody>\n",
       "    <tr>\n",
       "      <th>0</th>\n",
       "      <td>Does work</td>\n",
       "      <td>0</td>\n",
       "    </tr>\n",
       "    <tr>\n",
       "      <th>1</th>\n",
       "      <td>This great wiring kit used set Pyle 2000 watt ...</td>\n",
       "      <td>1</td>\n",
       "    </tr>\n",
       "    <tr>\n",
       "      <th>2</th>\n",
       "      <td>work great much faster USB charger Buy You glad</td>\n",
       "      <td>1</td>\n",
       "    </tr>\n",
       "    <tr>\n",
       "      <th>3</th>\n",
       "      <td>This product purchased hold monitor desk conne...</td>\n",
       "      <td>1</td>\n",
       "    </tr>\n",
       "    <tr>\n",
       "      <th>4</th>\n",
       "      <td>work really bad sound quality bass work almost</td>\n",
       "      <td>1</td>\n",
       "    </tr>\n",
       "  </tbody>\n",
       "</table>\n",
       "</div>"
      ],
      "text/plain": [
       "                                        short_review  sentiment\n",
       "0                                          Does work          0\n",
       "1  This great wiring kit used set Pyle 2000 watt ...          1\n",
       "2    work great much faster USB charger Buy You glad          1\n",
       "3  This product purchased hold monitor desk conne...          1\n",
       "4     work really bad sound quality bass work almost          1"
      ]
     },
     "execution_count": 33,
     "metadata": {},
     "output_type": "execute_result"
    }
   ],
   "source": [
    "df.head()"
   ]
  },
  {
   "cell_type": "code",
   "execution_count": 105,
   "metadata": {},
   "outputs": [],
   "source": [
    "x = df['short_review'].values\n",
    "y = df['sentiment'].values"
   ]
  },
  {
   "cell_type": "code",
   "execution_count": 106,
   "metadata": {},
   "outputs": [],
   "source": [
    "from sklearn.model_selection import train_test_split\n",
    "train_sentences, test_sentences, train_labels, test_labels = train_test_split(x, y, test_size=0.3)"
   ]
  },
  {
   "cell_type": "code",
   "execution_count": 107,
   "metadata": {},
   "outputs": [],
   "source": [
    "tfidf_vectorizer= TfidfVectorizer(max_features=1500,min_df=5,max_df=0.7,stop_words=stopwords.words('english'))\n",
    "tfidf_train=tfidf_vectorizer.fit_transform(train_sentences)\n",
    "tfidf_test=tfidf_vectorizer.transform(test_sentences)"
   ]
  },
  {
   "cell_type": "code",
   "execution_count": 108,
   "metadata": {},
   "outputs": [],
   "source": [
    "count_vectorizer= CountVectorizer()\n",
    "count_train=count_vectorizer.fit_transform(train_sentences)\n",
    "count_test=count_vectorizer.transform(test_sentences)"
   ]
  },
  {
   "cell_type": "code",
   "execution_count": 109,
   "metadata": {},
   "outputs": [],
   "source": [
    "from sklearn.naive_bayes import MultinomialNB\n",
    "from sklearn import metrics\n",
    "classifier=MultinomialNB()"
   ]
  },
  {
   "cell_type": "code",
   "execution_count": 110,
   "metadata": {},
   "outputs": [
    {
     "name": "stdout",
     "output_type": "stream",
     "text": [
      "0.8444\n"
     ]
    }
   ],
   "source": [
    "classifier = MultinomialNB()\n",
    "classifier.fit(tfidf_train, train_labels)\n",
    "y_pred = classifier.predict(tfidf_test)\n",
    "score=metrics.accuracy_score(test_labels,y_pred)\n",
    "print(score)"
   ]
  },
  {
   "cell_type": "code",
   "execution_count": 123,
   "metadata": {},
   "outputs": [],
   "source": [
    "from keras.models import Sequential\n",
    "from keras import layers\n",
    "from keras.preprocessing import sequence\n",
    "from keras.models import Model\n",
    "from keras.layers import LSTM, Activation, Dense, Dropout, Input, Embedding\n",
    "from keras.optimizers import RMSprop\n",
    "from keras.utils import to_categorical\n",
    "from keras.callbacks import EarlyStopping"
   ]
  },
  {
   "cell_type": "code",
   "execution_count": 124,
   "metadata": {},
   "outputs": [],
   "source": [
    "max_words = 1000\n",
    "max_len = 100\n",
    "tok = Tokenizer(num_words=max_words)\n",
    "tok.fit_on_texts(train_sentences)\n",
    "sequences = tok.texts_to_sequences(train_sentences)\n",
    "sequences_matrix = sequence.pad_sequences(sequences,maxlen=max_len)\n",
    "test_sequences = tok.texts_to_sequences(test_sentences)\n",
    "test_sequences_matrix = sequence.pad_sequences(test_sequences,maxlen=max_len)"
   ]
  },
  {
   "cell_type": "code",
   "execution_count": 172,
   "metadata": {},
   "outputs": [],
   "source": [
    "import pickle\n",
    "\n",
    "# saving\n",
    "with open('tokenizer.pickle', 'wb') as handle:\n",
    "    pickle.dump(tok, handle, protocol=pickle.HIGHEST_PROTOCOL)"
   ]
  },
  {
   "cell_type": "code",
   "execution_count": 125,
   "metadata": {},
   "outputs": [],
   "source": [
    "def RNN():\n",
    "    inputs = Input(name='inputs',shape=[max_len])\n",
    "    layer = Embedding(max_words,50,input_length=max_len)(inputs)\n",
    "    layer = LSTM(64)(layer)\n",
    "    layer = Dense(256,name='FC1')(layer)\n",
    "    layer = Activation('relu')(layer)\n",
    "    layer = Dropout(0.5)(layer)\n",
    "    layer = Dense(1,name='out_layer')(layer)\n",
    "    layer = Activation('sigmoid')(layer)\n",
    "    model = Model(inputs=inputs,outputs=layer)\n",
    "    return model"
   ]
  },
  {
   "cell_type": "code",
   "execution_count": 126,
   "metadata": {},
   "outputs": [
    {
     "name": "stdout",
     "output_type": "stream",
     "text": [
      "Model: \"functional_1\"\n",
      "_________________________________________________________________\n",
      "Layer (type)                 Output Shape              Param #   \n",
      "=================================================================\n",
      "inputs (InputLayer)          [(None, 100)]             0         \n",
      "_________________________________________________________________\n",
      "embedding_3 (Embedding)      (None, 100, 50)           50000     \n",
      "_________________________________________________________________\n",
      "lstm (LSTM)                  (None, 64)                29440     \n",
      "_________________________________________________________________\n",
      "FC1 (Dense)                  (None, 256)               16640     \n",
      "_________________________________________________________________\n",
      "activation (Activation)      (None, 256)               0         \n",
      "_________________________________________________________________\n",
      "dropout (Dropout)            (None, 256)               0         \n",
      "_________________________________________________________________\n",
      "out_layer (Dense)            (None, 1)                 257       \n",
      "_________________________________________________________________\n",
      "activation_1 (Activation)    (None, 1)                 0         \n",
      "=================================================================\n",
      "Total params: 96,337\n",
      "Trainable params: 96,337\n",
      "Non-trainable params: 0\n",
      "_________________________________________________________________\n"
     ]
    }
   ],
   "source": [
    "model = RNN()\n",
    "model.summary()\n",
    "model.compile(loss='binary_crossentropy',optimizer=RMSprop(),metrics=['accuracy'])"
   ]
  },
  {
   "cell_type": "code",
   "execution_count": 127,
   "metadata": {},
   "outputs": [
    {
     "name": "stdout",
     "output_type": "stream",
     "text": [
      "Epoch 1/10\n",
      "219/219 [==============================] - 31s 142ms/step - loss: 0.3767 - accuracy: 0.8387 - val_loss: 0.2904 - val_accuracy: 0.8733\n",
      "Epoch 2/10\n",
      "219/219 [==============================] - 29s 135ms/step - loss: 0.2868 - accuracy: 0.8812 - val_loss: 0.2971 - val_accuracy: 0.8763\n"
     ]
    },
    {
     "data": {
      "text/plain": [
       "<tensorflow.python.keras.callbacks.History at 0x19f2323de50>"
      ]
     },
     "execution_count": 127,
     "metadata": {},
     "output_type": "execute_result"
    }
   ],
   "source": [
    "model.fit(sequences_matrix,train_labels,batch_size=128,epochs=10,\n",
    "          validation_split=0.2,callbacks=[EarlyStopping(monitor='val_loss',min_delta=0.0001)])"
   ]
  },
  {
   "cell_type": "markdown",
   "metadata": {},
   "source": [
    "## Saving Model:"
   ]
  },
  {
   "cell_type": "code",
   "execution_count": 171,
   "metadata": {},
   "outputs": [
    {
     "name": "stdout",
     "output_type": "stream",
     "text": [
      "WARNING:tensorflow:From c:\\users\\saksh\\appdata\\local\\programs\\python\\python38\\lib\\site-packages\\tensorflow\\python\\training\\tracking\\tracking.py:111: Model.state_updates (from tensorflow.python.keras.engine.training) is deprecated and will be removed in a future version.\n",
      "Instructions for updating:\n",
      "This property should not be used in TensorFlow 2.0, as updates are applied automatically.\n"
     ]
    },
    {
     "name": "stderr",
     "output_type": "stream",
     "text": [
      "WARNING:tensorflow:From c:\\users\\saksh\\appdata\\local\\programs\\python\\python38\\lib\\site-packages\\tensorflow\\python\\training\\tracking\\tracking.py:111: Model.state_updates (from tensorflow.python.keras.engine.training) is deprecated and will be removed in a future version.\n",
      "Instructions for updating:\n",
      "This property should not be used in TensorFlow 2.0, as updates are applied automatically.\n"
     ]
    },
    {
     "name": "stdout",
     "output_type": "stream",
     "text": [
      "WARNING:tensorflow:From c:\\users\\saksh\\appdata\\local\\programs\\python\\python38\\lib\\site-packages\\tensorflow\\python\\training\\tracking\\tracking.py:111: Layer.updates (from tensorflow.python.keras.engine.base_layer) is deprecated and will be removed in a future version.\n",
      "Instructions for updating:\n",
      "This property should not be used in TensorFlow 2.0, as updates are applied automatically.\n"
     ]
    },
    {
     "name": "stderr",
     "output_type": "stream",
     "text": [
      "WARNING:tensorflow:From c:\\users\\saksh\\appdata\\local\\programs\\python\\python38\\lib\\site-packages\\tensorflow\\python\\training\\tracking\\tracking.py:111: Layer.updates (from tensorflow.python.keras.engine.base_layer) is deprecated and will be removed in a future version.\n",
      "Instructions for updating:\n",
      "This property should not be used in TensorFlow 2.0, as updates are applied automatically.\n"
     ]
    },
    {
     "name": "stdout",
     "output_type": "stream",
     "text": [
      "INFO:tensorflow:Assets written to: sentiment_model\\assets\n"
     ]
    },
    {
     "name": "stderr",
     "output_type": "stream",
     "text": [
      "INFO:tensorflow:Assets written to: sentiment_model\\assets\n"
     ]
    }
   ],
   "source": [
    "model.save('sentiment_model')"
   ]
  },
  {
   "cell_type": "code",
   "execution_count": 129,
   "metadata": {},
   "outputs": [
    {
     "name": "stdout",
     "output_type": "stream",
     "text": [
      "469/469 [==============================] - 10s 21ms/step - loss: 0.3005 - accuracy: 0.8716\n"
     ]
    },
    {
     "data": {
      "text/plain": [
       "[0.3005327582359314, 0.8715999722480774]"
      ]
     },
     "execution_count": 129,
     "metadata": {},
     "output_type": "execute_result"
    }
   ],
   "source": [
    "model.evaluate(test_sequences_matrix,test_labels)"
   ]
  },
  {
   "cell_type": "markdown",
   "metadata": {},
   "source": [
    "## Making Predictions:"
   ]
  },
  {
   "cell_type": "code",
   "execution_count": 143,
   "metadata": {},
   "outputs": [],
   "source": [
    "predictions = model.predict(example_sequences_matrix)\n",
    "pred = []\n",
    "for i in predictions:\n",
    "    if i[0]>0.5:\n",
    "        pred.append(1)\n",
    "    else:\n",
    "        pred.append(0)"
   ]
  },
  {
   "cell_type": "code",
   "execution_count": 144,
   "metadata": {},
   "outputs": [
    {
     "data": {
      "text/plain": [
       "[0]"
      ]
     },
     "execution_count": 144,
     "metadata": {},
     "output_type": "execute_result"
    }
   ],
   "source": [
    "pred"
   ]
  },
  {
   "cell_type": "code",
   "execution_count": 142,
   "metadata": {},
   "outputs": [],
   "source": [
    "example1 = \"The worst phone I've ever purchased!1.Battery: very poor, battery drains quickly and takes 2.5 hours to fully charge a phone in idle mode. False commitment of fast changing and useless 5000mah battery!2.The phone keeps getting hang, if using 3-4 apps simultaneously.\"\n",
    "example1 = pd.Series(preprocess(example1))\n",
    "example_sequences = tok.texts_to_sequences(example1)\n",
    "example_sequences_matrix = sequence.pad_sequences(example_sequences,maxlen=max_len)"
   ]
  },
  {
   "cell_type": "code",
   "execution_count": 50,
   "metadata": {},
   "outputs": [
    {
     "data": {
      "text/plain": [
       "<1x1500 sparse matrix of type '<class 'numpy.float64'>'\n",
       "\twith 20 stored elements in Compressed Sparse Row format>"
      ]
     },
     "execution_count": 50,
     "metadata": {},
     "output_type": "execute_result"
    }
   ],
   "source": [
    "example = \"The worst phone I've ever purchased!1.Battery: very poor, battery drains quickly and takes 2.5 hours to fully charge a phone in idle mode. False commitment of fast changing and useless 5000mah battery!2.The phone keeps getting hang, if using 3-4 apps simultaneously.\"\n",
    "example = pd.Series(preprocess(example))\n",
    "example = tfidf_vectorizer.transform(example)\n",
    "example"
   ]
  },
  {
   "cell_type": "code",
   "execution_count": 51,
   "metadata": {},
   "outputs": [
    {
     "data": {
      "text/plain": [
       "array([0], dtype=int64)"
      ]
     },
     "execution_count": 51,
     "metadata": {},
     "output_type": "execute_result"
    }
   ],
   "source": [
    "classifier.predict(example)"
   ]
  },
  {
   "cell_type": "code",
   "execution_count": 145,
   "metadata": {},
   "outputs": [],
   "source": [
    "def predict_sentiment(reviews):\n",
    "    final_sequences = tok.texts_to_sequences(reviews)\n",
    "    final_sequences_matrix = sequence.pad_sequences(final_sequences,maxlen=max_len)\n",
    "    predictions = model.predict(final_sequences_matrix)\n",
    "    pred = []\n",
    "    for i in predictions:\n",
    "        if i[0]>0.5:\n",
    "            pred.append(1)\n",
    "        else:\n",
    "            pred.append(0)\n",
    "    return pred"
   ]
  },
  {
   "cell_type": "code",
   "execution_count": 165,
   "metadata": {},
   "outputs": [],
   "source": [
    "predictions = pd.DataFrame({'Predictions': predict_sentiment(reviews_list)})"
   ]
  },
  {
   "cell_type": "code",
   "execution_count": 166,
   "metadata": {},
   "outputs": [
    {
     "data": {
      "text/html": [
       "<div>\n",
       "<style scoped>\n",
       "    .dataframe tbody tr th:only-of-type {\n",
       "        vertical-align: middle;\n",
       "    }\n",
       "\n",
       "    .dataframe tbody tr th {\n",
       "        vertical-align: top;\n",
       "    }\n",
       "\n",
       "    .dataframe thead th {\n",
       "        text-align: right;\n",
       "    }\n",
       "</style>\n",
       "<table border=\"1\" class=\"dataframe\">\n",
       "  <thead>\n",
       "    <tr style=\"text-align: right;\">\n",
       "      <th></th>\n",
       "      <th>Predictions</th>\n",
       "    </tr>\n",
       "  </thead>\n",
       "  <tbody>\n",
       "    <tr>\n",
       "      <th>0</th>\n",
       "      <td>1</td>\n",
       "    </tr>\n",
       "    <tr>\n",
       "      <th>1</th>\n",
       "      <td>1</td>\n",
       "    </tr>\n",
       "    <tr>\n",
       "      <th>2</th>\n",
       "      <td>0</td>\n",
       "    </tr>\n",
       "    <tr>\n",
       "      <th>3</th>\n",
       "      <td>0</td>\n",
       "    </tr>\n",
       "    <tr>\n",
       "      <th>4</th>\n",
       "      <td>0</td>\n",
       "    </tr>\n",
       "    <tr>\n",
       "      <th>5</th>\n",
       "      <td>0</td>\n",
       "    </tr>\n",
       "    <tr>\n",
       "      <th>6</th>\n",
       "      <td>1</td>\n",
       "    </tr>\n",
       "    <tr>\n",
       "      <th>7</th>\n",
       "      <td>0</td>\n",
       "    </tr>\n",
       "    <tr>\n",
       "      <th>8</th>\n",
       "      <td>1</td>\n",
       "    </tr>\n",
       "    <tr>\n",
       "      <th>9</th>\n",
       "      <td>0</td>\n",
       "    </tr>\n",
       "    <tr>\n",
       "      <th>10</th>\n",
       "      <td>0</td>\n",
       "    </tr>\n",
       "    <tr>\n",
       "      <th>11</th>\n",
       "      <td>1</td>\n",
       "    </tr>\n",
       "    <tr>\n",
       "      <th>12</th>\n",
       "      <td>0</td>\n",
       "    </tr>\n",
       "    <tr>\n",
       "      <th>13</th>\n",
       "      <td>1</td>\n",
       "    </tr>\n",
       "    <tr>\n",
       "      <th>14</th>\n",
       "      <td>1</td>\n",
       "    </tr>\n",
       "    <tr>\n",
       "      <th>15</th>\n",
       "      <td>0</td>\n",
       "    </tr>\n",
       "    <tr>\n",
       "      <th>16</th>\n",
       "      <td>1</td>\n",
       "    </tr>\n",
       "    <tr>\n",
       "      <th>17</th>\n",
       "      <td>1</td>\n",
       "    </tr>\n",
       "    <tr>\n",
       "      <th>18</th>\n",
       "      <td>0</td>\n",
       "    </tr>\n",
       "    <tr>\n",
       "      <th>19</th>\n",
       "      <td>1</td>\n",
       "    </tr>\n",
       "    <tr>\n",
       "      <th>20</th>\n",
       "      <td>0</td>\n",
       "    </tr>\n",
       "    <tr>\n",
       "      <th>21</th>\n",
       "      <td>1</td>\n",
       "    </tr>\n",
       "    <tr>\n",
       "      <th>22</th>\n",
       "      <td>1</td>\n",
       "    </tr>\n",
       "    <tr>\n",
       "      <th>23</th>\n",
       "      <td>1</td>\n",
       "    </tr>\n",
       "    <tr>\n",
       "      <th>24</th>\n",
       "      <td>0</td>\n",
       "    </tr>\n",
       "    <tr>\n",
       "      <th>25</th>\n",
       "      <td>1</td>\n",
       "    </tr>\n",
       "    <tr>\n",
       "      <th>26</th>\n",
       "      <td>0</td>\n",
       "    </tr>\n",
       "    <tr>\n",
       "      <th>27</th>\n",
       "      <td>1</td>\n",
       "    </tr>\n",
       "    <tr>\n",
       "      <th>28</th>\n",
       "      <td>1</td>\n",
       "    </tr>\n",
       "    <tr>\n",
       "      <th>29</th>\n",
       "      <td>0</td>\n",
       "    </tr>\n",
       "    <tr>\n",
       "      <th>30</th>\n",
       "      <td>1</td>\n",
       "    </tr>\n",
       "    <tr>\n",
       "      <th>31</th>\n",
       "      <td>1</td>\n",
       "    </tr>\n",
       "    <tr>\n",
       "      <th>32</th>\n",
       "      <td>0</td>\n",
       "    </tr>\n",
       "    <tr>\n",
       "      <th>33</th>\n",
       "      <td>1</td>\n",
       "    </tr>\n",
       "    <tr>\n",
       "      <th>34</th>\n",
       "      <td>0</td>\n",
       "    </tr>\n",
       "    <tr>\n",
       "      <th>35</th>\n",
       "      <td>0</td>\n",
       "    </tr>\n",
       "    <tr>\n",
       "      <th>36</th>\n",
       "      <td>1</td>\n",
       "    </tr>\n",
       "    <tr>\n",
       "      <th>37</th>\n",
       "      <td>0</td>\n",
       "    </tr>\n",
       "    <tr>\n",
       "      <th>38</th>\n",
       "      <td>0</td>\n",
       "    </tr>\n",
       "    <tr>\n",
       "      <th>39</th>\n",
       "      <td>1</td>\n",
       "    </tr>\n",
       "    <tr>\n",
       "      <th>40</th>\n",
       "      <td>1</td>\n",
       "    </tr>\n",
       "    <tr>\n",
       "      <th>41</th>\n",
       "      <td>1</td>\n",
       "    </tr>\n",
       "    <tr>\n",
       "      <th>42</th>\n",
       "      <td>0</td>\n",
       "    </tr>\n",
       "    <tr>\n",
       "      <th>43</th>\n",
       "      <td>0</td>\n",
       "    </tr>\n",
       "    <tr>\n",
       "      <th>44</th>\n",
       "      <td>0</td>\n",
       "    </tr>\n",
       "    <tr>\n",
       "      <th>45</th>\n",
       "      <td>0</td>\n",
       "    </tr>\n",
       "    <tr>\n",
       "      <th>46</th>\n",
       "      <td>0</td>\n",
       "    </tr>\n",
       "    <tr>\n",
       "      <th>47</th>\n",
       "      <td>0</td>\n",
       "    </tr>\n",
       "    <tr>\n",
       "      <th>48</th>\n",
       "      <td>1</td>\n",
       "    </tr>\n",
       "    <tr>\n",
       "      <th>49</th>\n",
       "      <td>1</td>\n",
       "    </tr>\n",
       "  </tbody>\n",
       "</table>\n",
       "</div>"
      ],
      "text/plain": [
       "    Predictions\n",
       "0             1\n",
       "1             1\n",
       "2             0\n",
       "3             0\n",
       "4             0\n",
       "5             0\n",
       "6             1\n",
       "7             0\n",
       "8             1\n",
       "9             0\n",
       "10            0\n",
       "11            1\n",
       "12            0\n",
       "13            1\n",
       "14            1\n",
       "15            0\n",
       "16            1\n",
       "17            1\n",
       "18            0\n",
       "19            1\n",
       "20            0\n",
       "21            1\n",
       "22            1\n",
       "23            1\n",
       "24            0\n",
       "25            1\n",
       "26            0\n",
       "27            1\n",
       "28            1\n",
       "29            0\n",
       "30            1\n",
       "31            1\n",
       "32            0\n",
       "33            1\n",
       "34            0\n",
       "35            0\n",
       "36            1\n",
       "37            0\n",
       "38            0\n",
       "39            1\n",
       "40            1\n",
       "41            1\n",
       "42            0\n",
       "43            0\n",
       "44            0\n",
       "45            0\n",
       "46            0\n",
       "47            0\n",
       "48            1\n",
       "49            1"
      ]
     },
     "execution_count": 166,
     "metadata": {},
     "output_type": "execute_result"
    }
   ],
   "source": [
    "predictions"
   ]
  },
  {
   "cell_type": "markdown",
   "metadata": {},
   "source": [
    "## Visualizing Predicted Sentiments:"
   ]
  },
  {
   "cell_type": "code",
   "execution_count": 167,
   "metadata": {},
   "outputs": [],
   "source": [
    "import seaborn as sns\n",
    "import matplotlib.pyplot as plt\n",
    "%matplotlib inline"
   ]
  },
  {
   "cell_type": "code",
   "execution_count": 169,
   "metadata": {},
   "outputs": [
    {
     "data": {
      "image/png": "[encoded data removed]",
      "text/plain": [
       "<Figure size 864x576 with 1 Axes>"
      ]
     },
     "metadata": {
      "needs_background": "light"
     },
     "output_type": "display_data"
    }
   ],
   "source": [
    "plt.figure(figsize=(12,8))\n",
    "sns.countplot(x='Predictions', data=predictions)\n",
    "plt.show()"
   ]
  },
  {
   "cell_type": "markdown",
   "metadata": {},
   "source": [
    "## Final Recommendation for the User:"
   ]
  },
  {
   "cell_type": "code",
   "execution_count": 170,
   "metadata": {},
   "outputs": [
    {
     "name": "stdout",
     "output_type": "stream",
     "text": [
      "Sorry to keep you waiting...\n",
      "*******************************************************************\n",
      "Your Probot is here with the results!!!\n",
      "*******************************************************************\n",
      "This product has a lot of negative reviews. Therefore, it is suggested not to buy this product as far as    customer reviews are considered\n",
      "*******************************************************************\n",
      "I hope you liked the service. Come back soon with another product :)\n",
      "*******************************************************************\n",
      "Thank You!\n"
     ]
    }
   ],
   "source": [
    "print('Sorry to keep you waiting...')\n",
    "print('*******************************************************************')\n",
    "print('Your Probot is here with the results!!!')\n",
    "print('*******************************************************************')\n",
    "if predictions['Predictions'].value_counts()[0]/len(predictions)*100>=60:\n",
    "    print('This product is a good choice according to the reviews and you may buy it.')\n",
    "else:\n",
    "    print('This product has a lot of negative reviews. Therefore, it is suggested not to buy this product as far as\\\n",
    "    customer reviews are considered')\n",
    "print('*******************************************************************')\n",
    "print('I hope you liked the service. Come back soon with another product :)')\n",
    "print('*******************************************************************')\n",
    "print('Thank You!')"
   ]
  }
 ],
 "metadata": {
  "kernelspec": {
   "display_name": "Python 3",
   "language": "python",
   "name": "python3"
  },
  "language_info": {
   "codemirror_mode": {
    "name": "ipython",
    "version": 3
   },
   "file_extension": ".py",
   "mimetype": "text/x-python",
   "name": "python",
   "nbconvert_exporter": "python",
   "pygments_lexer": "ipython3",
   "version": "3.8.5"
  }
 },
 "nbformat": 4,
 "nbformat_minor": 4
}
