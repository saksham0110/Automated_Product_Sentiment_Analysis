{
 "cells": [
  {
   "cell_type": "markdown",
   "metadata": {},
   "source": [
    "## Importing Required Libraries:"
   ]
  },
  {
   "cell_type": "code",
   "execution_count": 117,
   "metadata": {},
   "outputs": [],
   "source": [
    "from keras.preprocessing import sequence\n",
    "from keras.models import Model\n",
    "import keras"
   ]
  },
  {
   "cell_type": "code",
   "execution_count": 118,
   "metadata": {},
   "outputs": [],
   "source": [
    "import pandas as pd\n",
    "import numpy as np\n",
    "import time\n",
    "from selenium import webdriver\n",
    "from selenium.webdriver.support import expected_conditions as EC\n",
    "from selenium.webdriver.support.ui import WebDriverWait\n",
    "import seaborn as sns\n",
    "import matplotlib.pyplot as plt\n",
    "%matplotlib inline"
   ]
  },
  {
   "cell_type": "code",
   "execution_count": 119,
   "metadata": {},
   "outputs": [
    {
     "name": "stderr",
     "output_type": "stream",
     "text": [
      "[nltk_data] Downloading package stopwords to\n",
      "[nltk_data]     C:\\Users\\saksh\\AppData\\Roaming\\nltk_data...\n",
      "[nltk_data]   Package stopwords is already up-to-date!\n"
     ]
    },
    {
     "data": {
      "text/plain": [
       "True"
      ]
     },
     "execution_count": 119,
     "metadata": {},
     "output_type": "execute_result"
    }
   ],
   "source": [
    "import re\n",
    "import nltk\n",
    "from nltk.corpus import stopwords\n",
    "from nltk.stem import WordNetLemmatizer\n",
    "nltk.download('stopwords')"
   ]
  },
  {
   "cell_type": "markdown",
   "metadata": {},
   "source": [
    "## Conversation Starter:"
   ]
  },
  {
   "cell_type": "code",
   "execution_count": 120,
   "metadata": {},
   "outputs": [],
   "source": [
    "def greetings():\n",
    "    print('Hey!')\n",
    "    print('*********************************************************')\n",
    "    print(\"I'm Probot. How may I help you?\")\n",
    "    print('*********************************************************')\n",
    "    product_name = str(input(\"Enter the product you want to review:\"))\n",
    "    return product_name"
   ]
  },
  {
   "cell_type": "markdown",
   "metadata": {},
   "source": [
    "## Getting Amazon Website:"
   ]
  },
  {
   "cell_type": "code",
   "execution_count": 121,
   "metadata": {},
   "outputs": [],
   "source": [
    "driver = webdriver.Chrome(executable_path='C:\\Windows\\chromedriver')\n",
    "driver.get('https://www.amazon.in/')"
   ]
  },
  {
   "cell_type": "code",
   "execution_count": 122,
   "metadata": {},
   "outputs": [
    {
     "name": "stdout",
     "output_type": "stream",
     "text": [
      "Hey!\n",
      "*********************************************************\n",
      "I'm Probot. How may I help you?\n",
      "*********************************************************\n",
      "Enter the product you want to review:iphone 13\n"
     ]
    }
   ],
   "source": [
    "input_field = driver.find_element_by_id('twotabsearchtextbox')\n",
    "prod_name = greetings()\n",
    "input_field.send_keys(prod_name)\n",
    "driver.find_element_by_id('nav-search-submit-button').click()"
   ]
  },
  {
   "cell_type": "markdown",
   "metadata": {},
   "source": [
    "## Searching for the Input Product:"
   ]
  },
  {
   "cell_type": "code",
   "execution_count": 123,
   "metadata": {},
   "outputs": [],
   "source": [
    "product = driver.find_element_by_class_name('s-card-container')\n",
    "product_link = product.find_element_by_tag_name('a')\n",
    "product_link.click()"
   ]
  },
  {
   "cell_type": "code",
   "execution_count": 124,
   "metadata": {},
   "outputs": [],
   "source": [
    "driver.switch_to.window(driver.window_handles[1])"
   ]
  },
  {
   "cell_type": "code",
   "execution_count": 125,
   "metadata": {},
   "outputs": [],
   "source": [
    "driver.find_element_by_link_text('See all reviews').click()"
   ]
  },
  {
   "cell_type": "markdown",
   "metadata": {},
   "source": [
    "## Getting all the Customer Reviews for the Product:"
   ]
  },
  {
   "cell_type": "code",
   "execution_count": 126,
   "metadata": {},
   "outputs": [],
   "source": [
    "reviews = []"
   ]
  },
  {
   "cell_type": "code",
   "execution_count": 127,
   "metadata": {},
   "outputs": [],
   "source": [
    "def get_reviews(): \n",
    "    all_reviews = driver.find_elements_by_class_name('review-text')\n",
    "    for review in all_reviews:\n",
    "        reviews.append(review.text)"
   ]
  },
  {
   "cell_type": "code",
   "execution_count": 128,
   "metadata": {},
   "outputs": [],
   "source": [
    "get_reviews()\n",
    "next_page = True\n",
    "while(next_page):\n",
    "    if len(reviews)>=50:\n",
    "        break\n",
    "    try:\n",
    "        driver.find_element_by_id('cm_cr-pagination_bar').find_element_by_class_name('a-last').find_element_by_tag_name('a').click()\n",
    "        time.sleep(6)\n",
    "        get_reviews()\n",
    "    except:\n",
    "        next_page = False\n",
    "reviews = list(set(reviews))"
   ]
  },
  {
   "cell_type": "code",
   "execution_count": 129,
   "metadata": {},
   "outputs": [],
   "source": [
    "for i in range(len(reviews)):\n",
    "    reviews[i] = reviews[i].replace('\\n','').strip()"
   ]
  },
  {
   "cell_type": "markdown",
   "metadata": {},
   "source": [
    "## Preprocessing Review Data:"
   ]
  },
  {
   "cell_type": "code",
   "execution_count": 130,
   "metadata": {},
   "outputs": [],
   "source": [
    "def preprocess(txt):\n",
    "    txt = re.sub(r\"[^a-zA-Z0-9]\", \" \", txt)\n",
    "    txt = txt.split()\n",
    "    filtered_txt = []\n",
    "    for word in txt:\n",
    "        if word not in stop_words and len(word)>2:\n",
    "            filtered_txt.append(word)\n",
    "    filtered_txt = [lemmatizer.lemmatize(w) for w in filtered_txt if len(w)>1]\n",
    "    filtered_txt = \" \".join(u for u in filtered_txt if u not in (\"?\", \".\", \";\", \":\",  \"!\",'\"')) \n",
    "    return filtered_txt\n",
    "\n",
    "stop_words = stopwords.words('english')\n",
    "lemmatizer = WordNetLemmatizer()"
   ]
  },
  {
   "cell_type": "code",
   "execution_count": 131,
   "metadata": {},
   "outputs": [],
   "source": [
    "processed_reviews = []\n",
    "for review in reviews:\n",
    "    processed_reviews.append(preprocess(review))"
   ]
  },
  {
   "cell_type": "markdown",
   "metadata": {},
   "source": [
    "## Loading the Saved Model:"
   ]
  },
  {
   "cell_type": "code",
   "execution_count": 132,
   "metadata": {},
   "outputs": [],
   "source": [
    "new_model = keras.models.load_model('sentiment_model')"
   ]
  },
  {
   "cell_type": "markdown",
   "metadata": {},
   "source": [
    "## Predicting Sentiment for the Reviews:"
   ]
  },
  {
   "cell_type": "code",
   "execution_count": 133,
   "metadata": {},
   "outputs": [],
   "source": [
    "def predict_sentiment(reviews):\n",
    "    final_sequences = tok.texts_to_sequences(reviews)\n",
    "    final_sequences_matrix = sequence.pad_sequences(final_sequences,maxlen=max_len)\n",
    "    predictions = new_model.predict(final_sequences_matrix)\n",
    "    pred = []\n",
    "    for i in predictions:\n",
    "        if i[0]>0.5:\n",
    "            pred.append(1)\n",
    "        else:\n",
    "            pred.append(0)\n",
    "    return pred"
   ]
  },
  {
   "cell_type": "code",
   "execution_count": 134,
   "metadata": {},
   "outputs": [],
   "source": [
    "import pickle\n",
    "# loading\n",
    "with open('tokenizer.pickle', 'rb') as handle:\n",
    "    tok = pickle.load(handle)\n",
    "max_words = 1000\n",
    "max_len = 100"
   ]
  },
  {
   "cell_type": "code",
   "execution_count": 135,
   "metadata": {},
   "outputs": [],
   "source": [
    "predictions = pd.DataFrame({'Predictions': predict_sentiment(processed_reviews)})"
   ]
  },
  {
   "cell_type": "code",
   "execution_count": 136,
   "metadata": {},
   "outputs": [],
   "source": [
    "predictions['Predictions'] = predictions['Predictions'].map({0:'Negative', 1:'Positive'})"
   ]
  },
  {
   "cell_type": "markdown",
   "metadata": {},
   "source": [
    "## Visualizing Predicted Sentiments:"
   ]
  },
  {
   "cell_type": "code",
   "execution_count": 137,
   "metadata": {},
   "outputs": [
    {
     "data": {
      "image/png": "[encoded data removed]",
      "text/plain": [
       "<Figure size 648x360 with 1 Axes>"
      ]
     },
     "metadata": {
      "needs_background": "light"
     },
     "output_type": "display_data"
    }
   ],
   "source": [
    "plt.figure(figsize=(9,5))\n",
    "sns.countplot(x='Predictions', data=predictions)\n",
    "plt.show()"
   ]
  },
  {
   "cell_type": "markdown",
   "metadata": {},
   "source": [
    "## Final Recommendation for the User:"
   ]
  },
  {
   "cell_type": "code",
   "execution_count": 138,
   "metadata": {},
   "outputs": [
    {
     "name": "stdout",
     "output_type": "stream",
     "text": [
      "Sorry to keep you waiting...\n",
      "*******************************************************************\n",
      "Your Probot is here with the results!!!\n",
      "*******************************************************************\n",
      "This product is a good choice according to the reviews and you may buy it.\n",
      "*******************************************************************\n",
      "I hope you liked the service. Come back soon with another product :)\n",
      "*******************************************************************\n",
      "Thank You!\n"
     ]
    }
   ],
   "source": [
    "print('Sorry to keep you waiting...')\n",
    "print('*******************************************************************')\n",
    "print('Your Probot is here with the results!!!')\n",
    "print('*******************************************************************')\n",
    "if predictions['Predictions'].value_counts()[0]/len(predictions)*100>=55:\n",
    "    print('This product is a good choice according to the reviews and you may buy it.')\n",
    "else:\n",
    "    print('This product has a lot of negative reviews. Therefore, it is suggested not to buy this product as far as\\\n",
    "    customer reviews are considered')\n",
    "print('*******************************************************************')\n",
    "print('I hope you liked the service. Come back soon with another product :)')\n",
    "print('*******************************************************************')\n",
    "print('Thank You!')"
   ]
  }
 ],
 "metadata": {
  "kernelspec": {
   "display_name": "Python 3",
   "language": "python",
   "name": "python3"
  },
  "language_info": {
   "codemirror_mode": {
    "name": "ipython",
    "version": 3
   },
   "file_extension": ".py",
   "mimetype": "text/x-python",
   "name": "python",
   "nbconvert_exporter": "python",
   "pygments_lexer": "ipython3",
   "version": "3.8.5"
  }
 },
 "nbformat": 4,
 "nbformat_minor": 4
}
